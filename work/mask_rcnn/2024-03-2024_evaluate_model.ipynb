{
 "cells": [
  {
   "cell_type": "markdown",
   "id": "7da84adc-b8fa-4bef-b282-9570a810241b",
   "metadata": {},
   "source": [
    "# Evaluating the Model"
   ]
  },
  {
   "cell_type": "markdown",
   "id": "20f8e53e-be11-4a80-b2c1-81f9fd6fc8bf",
   "metadata": {},
   "source": [
    "### Install Requirements"
   ]
  },
  {
   "cell_type": "code",
   "execution_count": 1,
   "id": "7829e5e1-3895-438f-9bbd-82096a4fe7c7",
   "metadata": {
    "tags": []
   },
   "outputs": [],
   "source": [
    "%%capture\n",
    "\n",
    "!pip install fiftyone\n",
    "!pip install pyzbar\n",
    "!pip install opencv-python\n",
    "!pip install seaborn\n",
    "!pip install openpyxl"
   ]
  },
  {
   "cell_type": "markdown",
   "id": "df07d94f-cd39-437c-81a8-91956b8da9c2",
   "metadata": {},
   "source": [
    "### Import Required Libraries"
   ]
  },
  {
   "cell_type": "code",
   "execution_count": 2,
   "id": "3c04cd5a-4265-41b2-aed6-6783a5fe0e3a",
   "metadata": {
    "tags": []
   },
   "outputs": [],
   "source": [
    "import detectron2\n",
    "from detectron2.utils.logger import setup_logger\n",
    "setup_logger()\n",
    "\n",
    "# import some common detectron2 utilities\n",
    "from detectron2 import model_zoo\n",
    "from detectron2.engine import DefaultPredictor\n",
    "from detectron2.data.catalog import Metadata\n",
    "from detectron2.config import get_cfg\n",
    "from detectron2.utils.visualizer import Visualizer, ColorMode\n",
    "\n",
    "import os\n",
    "import sys\n",
    "import numpy as np\n",
    "import pandas as pd\n",
    "import fiftyone as fo\n",
    "from PIL import Image, ImageOps\n",
    "from PIL.ExifTags import TAGS\n",
    "from pathlib import Path\n",
    "from pyzbar.pyzbar import decode\n",
    "from pyzbar.pyzbar import ZBarSymbol\n",
    "from torchvision import transforms\n",
    "from IPython.display import display\n"
   ]
  },
  {
   "cell_type": "markdown",
   "id": "3dd33d2b-5c5d-4ae2-b5bf-a01167751ccc",
   "metadata": {},
   "source": [
    "### Specify Model"
   ]
  },
  {
   "cell_type": "markdown",
   "id": "0048e453-a4ee-4055-89ff-cf49b8ab4458",
   "metadata": {},
   "source": [
    "There are several output folders from training multiple models.  "
   ]
  },
  {
   "cell_type": "code",
   "execution_count": 4,
   "id": "2437332e-f435-4de1-a050-0676852694d9",
   "metadata": {
    "tags": []
   },
   "outputs": [],
   "source": [
    "# set this to today's date\n",
    "today = \"2023-09-11\"\n",
    "\n",
    "# modify output folder suffix if needed\n",
    "suffix = \"kfold_train_2\"\n",
    "\n",
    "# name of output folder\n",
    "output_folder = today + \"_\" + suffix\n",
    "\n",
    "k=1"
   ]
  },
  {
   "cell_type": "code",
   "execution_count": 5,
   "id": "c3713808-82cc-4547-9140-d0e79fe34367",
   "metadata": {
    "tags": []
   },
   "outputs": [
    {
     "name": "stdout",
     "output_type": "stream",
     "text": [
      "\u001b[32m[03/15 02:53:28 d2.checkpoint.detection_checkpoint]: \u001b[0m[DetectionCheckpointer] Loading from /home/jovyan/work/mask_rcnn/2023-09-11_kfold_train_2/fold_1/model_final.pth ...\n"
     ]
    },
    {
     "data": {
      "text/plain": [
       "namespace(thing_classes=['leaf', 'qr', 'red-square'])"
      ]
     },
     "execution_count": 5,
     "metadata": {},
     "output_type": "execute_result"
    }
   ],
   "source": [
    "base_path = f\"/home/jovyan/work/mask_rcnn/{output_folder}/fold_{k}/\"\n",
    "\n",
    "leaf_cfg = get_cfg()\n",
    "leaf_cfg.MODEL.DEVICE='cpu'\n",
    "leaf_cfg.merge_from_file(model_zoo.get_config_file(\"COCO-InstanceSegmentation/mask_rcnn_R_50_FPN_3x.yaml\"))\n",
    "leaf_cfg.MODEL.ROI_HEADS.NUM_CLASSES = 3 \n",
    "leaf_cfg.MODEL.WEIGHTS = base_path + \"model_final.pth\" # path to trained weights\n",
    "leaf_cfg.MODEL.ROI_HEADS.SCORE_THRESH_TEST = 0.7  # set a custom testing threshold\n",
    "\n",
    "leaf_predictor = DefaultPredictor(leaf_cfg)\n",
    "\n",
    "# set up metadata\n",
    "leaf_metadata = Metadata()\n",
    "leaf_metadata.set(thing_classes = ['leaf', 'qr', 'red-square'])\n",
    "\n",
    "\n",
    "   "
   ]
  },
  {
   "cell_type": "code",
   "execution_count": 6,
   "id": "22158348-7b28-44ff-b6d9-fd39df9e4c31",
   "metadata": {
    "tags": []
   },
   "outputs": [
    {
     "name": "stdout",
     "output_type": "stream",
     "text": [
      "Loading fold 1 into fiftyone dataset...\n",
      " 100% |███████████████████| 35/35 [8.6s elapsed, 0s remaining, 4.0 samples/s]      \n",
      "Performing inference for fold 1...\n",
      "   0% ||------------------|  0/35 [13.9ms elapsed, ? remaining, ? samples/s] "
     ]
    },
    {
     "name": "stderr",
     "output_type": "stream",
     "text": [
      "/opt/conda/lib/python3.10/site-packages/torch/functional.py:504: UserWarning: torch.meshgrid: in an upcoming release, it will be required to pass the indexing argument. (Triggered internally at ../aten/src/ATen/native/TensorShape.cpp:3483.)\n",
      "  return _VF.meshgrid(tensors, **kwargs)  # type: ignore[attr-defined]\n"
     ]
    },
    {
     "name": "stdout",
     "output_type": "stream",
     "text": [
      " 100% |███████████████████| 35/35 [1.2m elapsed, 0s remaining, 0.5 samples/s]     \n",
      "Loading fold 2 into fiftyone dataset...\n",
      " 100% |███████████████████| 35/35 [9.1s elapsed, 0s remaining, 3.2 samples/s]      \n",
      "Performing inference for fold 2...\n",
      " 100% |███████████████████| 35/35 [1.3m elapsed, 0s remaining, 0.4 samples/s]     \n"
     ]
    }
   ],
   "source": [
    "import numpy as np\n",
    "from PIL import Image, ImageOps\n",
    "import fiftyone as fo\n",
    "\n",
    "# Assuming leaf_predictor is defined elsewhere and dataset is an iterable of samples\n",
    "datasets = {}\n",
    "\n",
    "for fold in range(1, 3):\n",
    "    \n",
    "    print(f'Loading fold {fold} into fiftyone dataset...')\n",
    "    \n",
    "    datasets[f'fold_{fold}'] = fo.Dataset.from_dir(\n",
    "        data_path=\"/home/jovyan/work/data/\",\n",
    "        labels_path=f\"/home/jovyan/work/mask_rcnn/{output_folder}/test_{fold}.json\",\n",
    "        dataset_type=fo.types.COCODetectionDataset, \n",
    "        name=f\"{today}_fold_{fold}\",\n",
    "        label_types=\"segmentations\",\n",
    "        overwrite=True\n",
    "    )\n",
    "    \n",
    "    print(f'Performing inference for fold {fold}...')\n",
    "\n",
    "    with fo.ProgressBar() as pb:\n",
    "        for sample in pb(datasets[f'fold_{fold}']):\n",
    "            image = Image.open(sample.filepath)\n",
    "            image = ImageOps.exif_transpose(image)  # Ensure correct orientation\n",
    "            image_arr = np.array(image)\n",
    "            h, w, _ = image_arr.shape\n",
    "\n",
    "            outputs = leaf_predictor(image_arr)\n",
    "\n",
    "            # Initialize counters for each class\n",
    "            red_square_pixels, leaf_pixels, qr_pixels = 0, 0, 0\n",
    "            detections = []\n",
    "\n",
    "            for i, (mask, box, label, score) in enumerate(zip(outputs[\"instances\"].pred_masks.numpy(),\n",
    "                                                              outputs[\"instances\"].pred_boxes.tensor.numpy(),\n",
    "                                                              outputs[\"instances\"].pred_classes.numpy(),\n",
    "                                                              outputs[\"instances\"].scores.numpy())):\n",
    "                x1, y1, x2, y2 = box\n",
    "                rel_box = [x1 / w, y1 / h, (x2 - x1) / w, (y2 - y1) / h]  # Relative bounding box\n",
    "\n",
    "                bbox_mask = mask[round(y1):round(y2), round(x1):round(x2)]\n",
    "                mask_pixel_count = np.count_nonzero(bbox_mask)\n",
    "\n",
    "                class_label = ['leaf', 'qr', 'red-square'][label]\n",
    "\n",
    "                # Update pixel counts based on class\n",
    "                if class_label == 'leaf':\n",
    "                    leaf_pixels += mask_pixel_count\n",
    "                elif class_label == 'red-square':\n",
    "                    red_square_pixels += mask_pixel_count  # Assuming you want to sum red square pixels\n",
    "                elif class_label == 'qr':\n",
    "                    qr_pixels += mask_pixel_count\n",
    "\n",
    "                detections.append(fo.Detection(\n",
    "                    label=class_label,\n",
    "                    bounding_box=rel_box,\n",
    "                    mask=bbox_mask,\n",
    "                    confidence=score,\n",
    "                    original_bbox=box\n",
    "                ))\n",
    "\n",
    "            # print(f'image: {sample.filepath}, red_square_pixels: {red_square_pixels}, leaf_pixels: {leaf_pixels}, qr_pixels: {qr_pixels}')\n",
    "\n",
    "            # Calculate leaf area\n",
    "            leaf_area = None\n",
    "            if red_square_pixels:\n",
    "                # Red square is 2cm x 2cm, or 4 cm2\n",
    "                leaf_area = (4 * leaf_pixels) / red_square_pixels\n",
    "            elif qr_pixels:\n",
    "                 # QR is 1.2cm x 1.2cm, or 1.44 cm2\n",
    "                leaf_area = (1.44 * leaf_pixels) / qr_pixels\n",
    "\n",
    "            # if leaf_area is not None:\n",
    "            #     print(f'leaf area: {leaf_area:.2f} cm2')\n",
    "\n",
    "            # Update sample with detections and calculated area\n",
    "            sample[\"predictions\"] = fo.Detections(detections=detections)\n",
    "            sample[\"height\"] = h\n",
    "            sample[\"width\"] = w\n",
    "            sample[\"area\"] = leaf_area\n",
    "            sample.save()\n"
   ]
  },
  {
   "cell_type": "code",
   "execution_count": 8,
   "id": "54f9d849-8477-4dda-9c06-fe0ebe34abc0",
   "metadata": {
    "tags": []
   },
   "outputs": [],
   "source": [
    "import numpy as np\n",
    "import matplotlib.pyplot as plt\n",
    "\n",
    "def convert_to_pixels(bbox, height, width):\n",
    "    x1, y1, w, h = bbox\n",
    "    return [x1 * width, y1 * height, (x1 + w) * width, (y1 + h) * height]\n",
    "\n",
    "def calculate_mask(detections, height, width):\n",
    "    mask = np.zeros((height, width), dtype=bool)\n",
    "    for d in detections:\n",
    "        if d.label == 'leaf':\n",
    "            bbox = d.bounding_box\n",
    "            x1, y1, x2, y2 = convert_to_pixels(bbox, height, width)\n",
    "            mask[round(y1):round(y2), round(x1):round(x2)] |= d.mask\n",
    "    return mask\n",
    "\n",
    "def calculate_iou_and_dice(gt_mask, pred_mask):\n",
    "    intersect = np.logical_and(gt_mask, pred_mask)\n",
    "    union = np.logical_or(gt_mask, pred_mask)\n",
    "    intersect_pixels = np.count_nonzero(intersect)\n",
    "    union_pixels = np.count_nonzero(union)\n",
    "    \n",
    "    iou = intersect_pixels / union_pixels if union_pixels else None\n",
    "    dice = (2 * intersect_pixels) / (np.count_nonzero(gt_mask) + np.count_nonzero(pred_mask)) if union_pixels else None\n",
    "    \n",
    "    return iou, dice\n",
    "\n",
    "def visualize_masks(gt_mask, pred_mask):\n",
    "    f, axarr = plt.subplots(1, 2)\n",
    "    plt.rcParams['figure.figsize'] = [10, 10]\n",
    "    axarr[0].title.set_text('Ground Truth')\n",
    "    axarr[1].title.set_text('Prediction')\n",
    "    axarr[0].imshow(gt_mask)\n",
    "    axarr[1].imshow(pred_mask)\n",
    "    plt.show()"
   ]
  },
  {
   "cell_type": "code",
   "execution_count": 10,
   "id": "40d0af98-cc80-4d93-b293-e315f3fe6e46",
   "metadata": {
    "tags": []
   },
   "outputs": [
    {
     "name": "stdout",
     "output_type": "stream",
     "text": [
      "\n",
      "fold_1\n",
      "---------------------------\n",
      "Min IOU:  0.0\n",
      "Max IOU:  0.9154512203664602\n",
      "Average IOU:  0.6456158233414965\n",
      "\n",
      "\n",
      "Min Dice:  0.0\n",
      "Max Dice:  0.9558596017823079\n",
      "Average Dice:  0.7358327848587056\n",
      "\n",
      "fold_2\n",
      "---------------------------\n",
      "Min IOU:  0.0\n",
      "Max IOU:  0.9403406861737023\n",
      "Average IOU:  0.7157493318937882\n",
      "\n",
      "\n",
      "Min Dice:  0.0\n",
      "Max Dice:  0.9692531758719423\n",
      "Average Dice:  0.7744462553937949\n",
      "\n",
      "\n",
      "          picture  area_cm2  ml_area  ground_truth_pixels  prediction_pixels  \\\n",
      "3    IMG_5795.tif      0.09     0.09              22142.0            20358.0   \n",
      "5    IMG_5850.tif      0.91     0.51             249791.0           105124.0   \n",
      "7    IMG_5852.tif      0.10     0.00              28006.0                0.0   \n",
      "8    IMG_5853.tif      0.77     0.00             221062.0                0.0   \n",
      "9    IMG_5854.tif      0.66     0.00             181261.0                0.0   \n",
      "..            ...       ...      ...                  ...                ...   \n",
      "160  IMG_6038.tif      6.05     5.13            1461432.0          1499830.0   \n",
      "162  IMG_6040.tif      1.43     0.80             378902.0           233132.0   \n",
      "164  IMG_6042.tif      0.65     0.80             184502.0           226354.0   \n",
      "171  IMG_6052.tif      1.15     1.05             168092.0           163696.0   \n",
      "172  IMG_6053.tif      8.92     8.62            1406122.0          1397366.0   \n",
      "\n",
      "          iou      dice  \n",
      "3    0.790755  0.883153  \n",
      "5    0.000000  0.000000  \n",
      "7    0.000000  0.000000  \n",
      "8    0.000000  0.000000  \n",
      "9    0.000000  0.000000  \n",
      "..        ...       ...  \n",
      "160  0.928152  0.962738  \n",
      "162  0.558401  0.716633  \n",
      "164  0.746369  0.854767  \n",
      "171  0.917872  0.957177  \n",
      "172  0.933237  0.965466  \n",
      "\n",
      "[70 rows x 7 columns]\n"
     ]
    }
   ],
   "source": [
    "import pandas as pd\n",
    "\n",
    "# initialize dataframe from manual area file, and add column for ml_area\n",
    "df = pd.read_excel('/home/jovyan/work/data/manual_area.xlsx')\n",
    "df['ml_area'] = None\n",
    "df['ml_area'] = df['ml_area'].astype(float)\n",
    "df['ground_truth_pixels'] = None\n",
    "df['ground_truth_pixels'] = df['ground_truth_pixels'].astype(float)\n",
    "df['prediction_pixels'] = None\n",
    "df['prediction_pixels'] = df['prediction_pixels'].astype(float)\n",
    "df['iou'] = None\n",
    "df['iou'] = df['iou'].astype(float)\n",
    "df['dice'] = None\n",
    "df['dice'] = df['dice'].astype(float)\n",
    "\n",
    "missing_from_file = []\n",
    "\n",
    "for fold_name, dataset in datasets.items():\n",
    "    \n",
    "    print('\\n' + fold_name)\n",
    "    print('---------------------------')\n",
    "    \n",
    "    fold_iou = []\n",
    "    fold_dice = []\n",
    "\n",
    "    for sample in dataset:\n",
    "\n",
    "        filename = sample.filepath.split('/')[-1].split('.')[0]\n",
    "\n",
    "        if not df.loc[df['picture'].str.startswith(filename)].empty:\n",
    "            df.loc[df['picture'].str.startswith(filename), 'ml_area'] = float(round(sample.area, 2)) \n",
    "        else:\n",
    "            missing_from_file.append(filename)\n",
    "        \n",
    "        height, width = sample.height, sample.width\n",
    "        ground_truth_mask = calculate_mask(sample.ground_truth.detections, height, width)\n",
    "        prediction_mask = calculate_mask(sample.predictions.detections, height, width)\n",
    "\n",
    "        # print('Prediction pixel count: ', np.count_nonzero(prediction_mask))\n",
    "        # print('Ground truth pixel count: ', np.count_nonzero(ground_truth_mask))\n",
    "\n",
    "        iou, dice = calculate_iou_and_dice(ground_truth_mask, prediction_mask)\n",
    "        \n",
    "        df.loc[df['picture'].str.startswith(filename), 'ground_truth_pixels'] = np.count_nonzero(ground_truth_mask)\n",
    "        df.loc[df['picture'].str.startswith(filename), 'prediction_pixels'] = np.count_nonzero(prediction_mask)\n",
    "        df.loc[df['picture'].str.startswith(filename), 'iou'] = iou\n",
    "        df.loc[df['picture'].str.startswith(filename), 'dice'] = dice \n",
    "        \n",
    "        fold_iou.append(iou)\n",
    "        fold_dice.append(dice)\n",
    "\n",
    "        # visualize_masks(ground_truth_mask, prediction_mask)\n",
    "    \n",
    "    fold_iou = np.array(fold_iou, dtype=float)\n",
    "\n",
    "    print('Min IOU: ', np.nanmin(fold_iou))\n",
    "    print('Max IOU: ', np.nanmax(fold_iou))\n",
    "    print('Average IOU: ', np.nanmean(fold_iou))\n",
    "\n",
    "    print('\\n')\n",
    "\n",
    "    fold_dice = np.array(fold_dice, dtype=float)\n",
    "\n",
    "    print('Min Dice: ', np.nanmin(fold_dice))\n",
    "    print('Max Dice: ', np.nanmax(fold_dice))\n",
    "    print('Average Dice: ', np.nanmean(fold_dice))\n",
    "\n",
    "\n",
    "df_area = df[df['ml_area'] >= 0.0]\n",
    "\n",
    "print('\\n')\n",
    "print(df_area)"
   ]
  },
  {
   "cell_type": "code",
   "execution_count": 11,
   "id": "c2321ecd-b483-40ef-89ca-1143dcfa52d4",
   "metadata": {
    "tags": []
   },
   "outputs": [
    {
     "name": "stderr",
     "output_type": "stream",
     "text": [
      "/opt/conda/lib/python3.10/site-packages/seaborn/axisgrid.py:118: UserWarning: The figure layout has changed to tight\n",
      "  self._figure.tight_layout(*args, **kwargs)\n"
     ]
    },
    {
     "data": {
      "text/plain": [
       "<seaborn.axisgrid.FacetGrid at 0x7fbed8d646d0>"
      ]
     },
     "execution_count": 11,
     "metadata": {},
     "output_type": "execute_result"
    },
    {
     "data": {
      "image/png": "[encoded data removed]",
      "text/plain": [
       "<Figure size 500x500 with 1 Axes>"
      ]
     },
     "metadata": {},
     "output_type": "display_data"
    }
   ],
   "source": [
    "import seaborn as sns\n",
    "plt = sns.lmplot(data=df_area, x='area_cm2', y='ml_area', fit_reg=True)\n",
    "plt.set(xlabel='Manual area (cm2)', ylabel='ML area (cm2)')"
   ]
  },
  {
   "cell_type": "code",
   "execution_count": 12,
   "id": "1fc5fea2-3e0c-44d1-b6ad-aeec0909a636",
   "metadata": {
    "tags": []
   },
   "outputs": [
    {
     "data": {
      "text/html": [
       "<div>\n",
       "<style scoped>\n",
       "    .dataframe tbody tr th:only-of-type {\n",
       "        vertical-align: middle;\n",
       "    }\n",
       "\n",
       "    .dataframe tbody tr th {\n",
       "        vertical-align: top;\n",
       "    }\n",
       "\n",
       "    .dataframe thead th {\n",
       "        text-align: right;\n",
       "    }\n",
       "</style>\n",
       "<table border=\"1\" class=\"dataframe\">\n",
       "  <thead>\n",
       "    <tr style=\"text-align: right;\">\n",
       "      <th></th>\n",
       "      <th>area_cm2</th>\n",
       "      <th>ml_area</th>\n",
       "      <th>ground_truth_pixels</th>\n",
       "      <th>prediction_pixels</th>\n",
       "      <th>iou</th>\n",
       "      <th>dice</th>\n",
       "    </tr>\n",
       "  </thead>\n",
       "  <tbody>\n",
       "    <tr>\n",
       "      <th>area_cm2</th>\n",
       "      <td>1.000000</td>\n",
       "      <td>0.996405</td>\n",
       "      <td>0.966514</td>\n",
       "      <td>0.961959</td>\n",
       "      <td>0.301014</td>\n",
       "      <td>0.246962</td>\n",
       "    </tr>\n",
       "    <tr>\n",
       "      <th>ml_area</th>\n",
       "      <td>0.996405</td>\n",
       "      <td>1.000000</td>\n",
       "      <td>0.957132</td>\n",
       "      <td>0.959170</td>\n",
       "      <td>0.343049</td>\n",
       "      <td>0.291463</td>\n",
       "    </tr>\n",
       "    <tr>\n",
       "      <th>ground_truth_pixels</th>\n",
       "      <td>0.966514</td>\n",
       "      <td>0.957132</td>\n",
       "      <td>1.000000</td>\n",
       "      <td>0.995503</td>\n",
       "      <td>0.295543</td>\n",
       "      <td>0.239145</td>\n",
       "    </tr>\n",
       "    <tr>\n",
       "      <th>prediction_pixels</th>\n",
       "      <td>0.961959</td>\n",
       "      <td>0.959170</td>\n",
       "      <td>0.995503</td>\n",
       "      <td>1.000000</td>\n",
       "      <td>0.348846</td>\n",
       "      <td>0.296152</td>\n",
       "    </tr>\n",
       "    <tr>\n",
       "      <th>iou</th>\n",
       "      <td>0.301014</td>\n",
       "      <td>0.343049</td>\n",
       "      <td>0.295543</td>\n",
       "      <td>0.348846</td>\n",
       "      <td>1.000000</td>\n",
       "      <td>0.988568</td>\n",
       "    </tr>\n",
       "    <tr>\n",
       "      <th>dice</th>\n",
       "      <td>0.246962</td>\n",
       "      <td>0.291463</td>\n",
       "      <td>0.239145</td>\n",
       "      <td>0.296152</td>\n",
       "      <td>0.988568</td>\n",
       "      <td>1.000000</td>\n",
       "    </tr>\n",
       "  </tbody>\n",
       "</table>\n",
       "</div>"
      ],
      "text/plain": [
       "                     area_cm2   ml_area  ground_truth_pixels  \\\n",
       "area_cm2             1.000000  0.996405             0.966514   \n",
       "ml_area              0.996405  1.000000             0.957132   \n",
       "ground_truth_pixels  0.966514  0.957132             1.000000   \n",
       "prediction_pixels    0.961959  0.959170             0.995503   \n",
       "iou                  0.301014  0.343049             0.295543   \n",
       "dice                 0.246962  0.291463             0.239145   \n",
       "\n",
       "                     prediction_pixels       iou      dice  \n",
       "area_cm2                      0.961959  0.301014  0.246962  \n",
       "ml_area                       0.959170  0.343049  0.291463  \n",
       "ground_truth_pixels           0.995503  0.295543  0.239145  \n",
       "prediction_pixels             1.000000  0.348846  0.296152  \n",
       "iou                           0.348846  1.000000  0.988568  \n",
       "dice                          0.296152  0.988568  1.000000  "
      ]
     },
     "execution_count": 12,
     "metadata": {},
     "output_type": "execute_result"
    }
   ],
   "source": [
    "df_area.corr(numeric_only=True)"
   ]
  },
  {
   "cell_type": "code",
   "execution_count": 13,
   "id": "778cdbdf-522f-4cb1-97c6-858f5a9f11dc",
   "metadata": {
    "tags": []
   },
   "outputs": [
    {
     "name": "stdout",
     "output_type": "stream",
     "text": [
      "PearsonRResult(statistic=0.9964054448825971, pvalue=1.218990797277069e-74)\n",
      "r^2: 0.9928238105916862\n"
     ]
    }
   ],
   "source": [
    "from scipy import stats\n",
    "\n",
    "corr = stats.pearsonr(df_area.area_cm2, df_area.ml_area)\n",
    "print(corr)\n",
    "r_squared = corr.statistic * corr.statistic\n",
    "print('r^2:', r_squared)"
   ]
  },
  {
   "cell_type": "code",
   "execution_count": 14,
   "id": "36127c8a-3700-4466-a24b-2e359e969198",
   "metadata": {
    "tags": []
   },
   "outputs": [
    {
     "data": {
      "text/html": [
       "<div>\n",
       "<style scoped>\n",
       "    .dataframe tbody tr th:only-of-type {\n",
       "        vertical-align: middle;\n",
       "    }\n",
       "\n",
       "    .dataframe tbody tr th {\n",
       "        vertical-align: top;\n",
       "    }\n",
       "\n",
       "    .dataframe thead th {\n",
       "        text-align: right;\n",
       "    }\n",
       "</style>\n",
       "<table border=\"1\" class=\"dataframe\">\n",
       "  <thead>\n",
       "    <tr style=\"text-align: right;\">\n",
       "      <th></th>\n",
       "      <th>area_cm2</th>\n",
       "      <th>ml_area</th>\n",
       "      <th>ground_truth_pixels</th>\n",
       "      <th>prediction_pixels</th>\n",
       "      <th>iou</th>\n",
       "      <th>dice</th>\n",
       "    </tr>\n",
       "  </thead>\n",
       "  <tbody>\n",
       "    <tr>\n",
       "      <th>area_cm2</th>\n",
       "      <td>1.000000</td>\n",
       "      <td>0.996405</td>\n",
       "      <td>0.966514</td>\n",
       "      <td>0.961959</td>\n",
       "      <td>0.301014</td>\n",
       "      <td>0.246962</td>\n",
       "    </tr>\n",
       "    <tr>\n",
       "      <th>ml_area</th>\n",
       "      <td>0.996405</td>\n",
       "      <td>1.000000</td>\n",
       "      <td>0.957132</td>\n",
       "      <td>0.959170</td>\n",
       "      <td>0.343049</td>\n",
       "      <td>0.291463</td>\n",
       "    </tr>\n",
       "    <tr>\n",
       "      <th>ground_truth_pixels</th>\n",
       "      <td>0.966514</td>\n",
       "      <td>0.957132</td>\n",
       "      <td>1.000000</td>\n",
       "      <td>0.995503</td>\n",
       "      <td>0.295543</td>\n",
       "      <td>0.239145</td>\n",
       "    </tr>\n",
       "    <tr>\n",
       "      <th>prediction_pixels</th>\n",
       "      <td>0.961959</td>\n",
       "      <td>0.959170</td>\n",
       "      <td>0.995503</td>\n",
       "      <td>1.000000</td>\n",
       "      <td>0.348846</td>\n",
       "      <td>0.296152</td>\n",
       "    </tr>\n",
       "    <tr>\n",
       "      <th>iou</th>\n",
       "      <td>0.301014</td>\n",
       "      <td>0.343049</td>\n",
       "      <td>0.295543</td>\n",
       "      <td>0.348846</td>\n",
       "      <td>1.000000</td>\n",
       "      <td>0.988568</td>\n",
       "    </tr>\n",
       "    <tr>\n",
       "      <th>dice</th>\n",
       "      <td>0.246962</td>\n",
       "      <td>0.291463</td>\n",
       "      <td>0.239145</td>\n",
       "      <td>0.296152</td>\n",
       "      <td>0.988568</td>\n",
       "      <td>1.000000</td>\n",
       "    </tr>\n",
       "  </tbody>\n",
       "</table>\n",
       "</div>"
      ],
      "text/plain": [
       "                     area_cm2   ml_area  ground_truth_pixels  \\\n",
       "area_cm2             1.000000  0.996405             0.966514   \n",
       "ml_area              0.996405  1.000000             0.957132   \n",
       "ground_truth_pixels  0.966514  0.957132             1.000000   \n",
       "prediction_pixels    0.961959  0.959170             0.995503   \n",
       "iou                  0.301014  0.343049             0.295543   \n",
       "dice                 0.246962  0.291463             0.239145   \n",
       "\n",
       "                     prediction_pixels       iou      dice  \n",
       "area_cm2                      0.961959  0.301014  0.246962  \n",
       "ml_area                       0.959170  0.343049  0.291463  \n",
       "ground_truth_pixels           0.995503  0.295543  0.239145  \n",
       "prediction_pixels             1.000000  0.348846  0.296152  \n",
       "iou                           0.348846  1.000000  0.988568  \n",
       "dice                          0.296152  0.988568  1.000000  "
      ]
     },
     "execution_count": 14,
     "metadata": {},
     "output_type": "execute_result"
    }
   ],
   "source": [
    "df_area.corr(method='pearson', numeric_only=True)"
   ]
  },
  {
   "cell_type": "code",
   "execution_count": 15,
   "id": "b437327f-fe92-4efe-8723-aead519e44e2",
   "metadata": {
    "tags": []
   },
   "outputs": [
    {
     "data": {
      "text/html": [
       "<div>\n",
       "<style scoped>\n",
       "    .dataframe tbody tr th:only-of-type {\n",
       "        vertical-align: middle;\n",
       "    }\n",
       "\n",
       "    .dataframe tbody tr th {\n",
       "        vertical-align: top;\n",
       "    }\n",
       "\n",
       "    .dataframe thead th {\n",
       "        text-align: right;\n",
       "    }\n",
       "</style>\n",
       "<table border=\"1\" class=\"dataframe\">\n",
       "  <thead>\n",
       "    <tr style=\"text-align: right;\">\n",
       "      <th></th>\n",
       "      <th>area_cm2</th>\n",
       "      <th>ml_area</th>\n",
       "      <th>ground_truth_pixels</th>\n",
       "      <th>prediction_pixels</th>\n",
       "      <th>iou</th>\n",
       "      <th>dice</th>\n",
       "    </tr>\n",
       "  </thead>\n",
       "  <tbody>\n",
       "    <tr>\n",
       "      <th>area_cm2</th>\n",
       "      <td>1.000000</td>\n",
       "      <td>0.785138</td>\n",
       "      <td>0.928849</td>\n",
       "      <td>0.750789</td>\n",
       "      <td>0.416334</td>\n",
       "      <td>0.416334</td>\n",
       "    </tr>\n",
       "    <tr>\n",
       "      <th>ml_area</th>\n",
       "      <td>0.785138</td>\n",
       "      <td>1.000000</td>\n",
       "      <td>0.740572</td>\n",
       "      <td>0.943136</td>\n",
       "      <td>0.578163</td>\n",
       "      <td>0.578163</td>\n",
       "    </tr>\n",
       "    <tr>\n",
       "      <th>ground_truth_pixels</th>\n",
       "      <td>0.928849</td>\n",
       "      <td>0.740572</td>\n",
       "      <td>1.000000</td>\n",
       "      <td>0.762382</td>\n",
       "      <td>0.439054</td>\n",
       "      <td>0.439054</td>\n",
       "    </tr>\n",
       "    <tr>\n",
       "      <th>prediction_pixels</th>\n",
       "      <td>0.750789</td>\n",
       "      <td>0.943136</td>\n",
       "      <td>0.762382</td>\n",
       "      <td>1.000000</td>\n",
       "      <td>0.599069</td>\n",
       "      <td>0.599069</td>\n",
       "    </tr>\n",
       "    <tr>\n",
       "      <th>iou</th>\n",
       "      <td>0.416334</td>\n",
       "      <td>0.578163</td>\n",
       "      <td>0.439054</td>\n",
       "      <td>0.599069</td>\n",
       "      <td>1.000000</td>\n",
       "      <td>1.000000</td>\n",
       "    </tr>\n",
       "    <tr>\n",
       "      <th>dice</th>\n",
       "      <td>0.416334</td>\n",
       "      <td>0.578163</td>\n",
       "      <td>0.439054</td>\n",
       "      <td>0.599069</td>\n",
       "      <td>1.000000</td>\n",
       "      <td>1.000000</td>\n",
       "    </tr>\n",
       "  </tbody>\n",
       "</table>\n",
       "</div>"
      ],
      "text/plain": [
       "                     area_cm2   ml_area  ground_truth_pixels  \\\n",
       "area_cm2             1.000000  0.785138             0.928849   \n",
       "ml_area              0.785138  1.000000             0.740572   \n",
       "ground_truth_pixels  0.928849  0.740572             1.000000   \n",
       "prediction_pixels    0.750789  0.943136             0.762382   \n",
       "iou                  0.416334  0.578163             0.439054   \n",
       "dice                 0.416334  0.578163             0.439054   \n",
       "\n",
       "                     prediction_pixels       iou      dice  \n",
       "area_cm2                      0.750789  0.416334  0.416334  \n",
       "ml_area                       0.943136  0.578163  0.578163  \n",
       "ground_truth_pixels           0.762382  0.439054  0.439054  \n",
       "prediction_pixels             1.000000  0.599069  0.599069  \n",
       "iou                           0.599069  1.000000  1.000000  \n",
       "dice                          0.599069  1.000000  1.000000  "
      ]
     },
     "execution_count": 15,
     "metadata": {},
     "output_type": "execute_result"
    }
   ],
   "source": [
    "df_area.corr(method='kendall', numeric_only=True)"
   ]
  },
  {
   "cell_type": "code",
   "execution_count": null,
   "id": "0e0dc960-1adc-4861-a1ea-e4d23c3d59ad",
   "metadata": {
    "tags": []
   },
   "outputs": [],
   "source": [
    "session = fo.launch_app(dataset, port=5151, address=\"0.0.0.0\")"
   ]
  },
  {
   "cell_type": "code",
   "execution_count": null,
   "id": "13536959-8aa0-4ecd-82be-aac8b7155dca",
   "metadata": {
    "tags": []
   },
   "outputs": [],
   "source": [
    "session.refresh()"
   ]
  },
  {
   "cell_type": "code",
   "execution_count": null,
   "id": "b3ac0ba2-1013-4e91-8e97-ac8998938c65",
   "metadata": {},
   "outputs": [],
   "source": []
  }
 ],
 "metadata": {
  "kernelspec": {
   "display_name": "Python 3 (ipykernel)",
   "language": "python",
   "name": "python3"
  },
  "language_info": {
   "codemirror_mode": {
    "name": "ipython",
    "version": 3
   },
   "file_extension": ".py",
   "mimetype": "text/x-python",
   "name": "python",
   "nbconvert_exporter": "python",
   "pygments_lexer": "ipython3",
   "version": "3.10.12"
  }
 },
 "nbformat": 4,
 "nbformat_minor": 5
}
