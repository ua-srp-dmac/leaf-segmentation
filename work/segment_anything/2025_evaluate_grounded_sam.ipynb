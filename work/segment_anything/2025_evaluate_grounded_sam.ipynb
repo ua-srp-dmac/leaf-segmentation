{
 "cells": [
  {
   "cell_type": "markdown",
   "id": "7da84adc-b8fa-4bef-b282-9570a810241b",
   "metadata": {
    "tags": []
   },
   "source": [
    "# Grounded SAM pipeline (2025 version)\n",
    "\n",
    "This notebook implements Grounded SAM, which is a pipeline that makes bounding box predictions from input text using Grounding DINO model, and then uses Segment Anything with bounding box prompts to generate the segmentation masks.\n",
    "\n",
    "Output images with segmentation masks are saved to a specified output folder to visualize results."
   ]
  },
  {
   "cell_type": "markdown",
   "id": "20f8e53e-be11-4a80-b2c1-81f9fd6fc8bf",
   "metadata": {},
   "source": [
    "### Install Requirements"
   ]
  },
  {
   "cell_type": "code",
   "execution_count": 1,
   "id": "7829e5e1-3895-438f-9bbd-82096a4fe7c7",
   "metadata": {
    "tags": []
   },
   "outputs": [],
   "source": [
    "%%capture\n",
    "\n",
    "!pip install fiftyone==1.1.0\n",
    "!pip install pyzbar\n",
    "!pip install opencv-python\n",
    "!pip install seaborn\n",
    "!pip install openpyxl\n",
    "!pip install groundingdino-py\n",
    "!pip install segment_anything"
   ]
  },
  {
   "cell_type": "markdown",
   "id": "df07d94f-cd39-437c-81a8-91956b8da9c2",
   "metadata": {},
   "source": [
    "### Import Required Libraries"
   ]
  },
  {
   "cell_type": "code",
   "execution_count": 2,
   "id": "3c04cd5a-4265-41b2-aed6-6783a5fe0e3a",
   "metadata": {
    "tags": []
   },
   "outputs": [
    {
     "name": "stderr",
     "output_type": "stream",
     "text": [
      "/opt/conda/lib/python3.10/site-packages/torchvision/datapoints/__init__.py:12: UserWarning: The torchvision.datapoints and torchvision.transforms.v2 namespaces are still Beta. While we do not expect major breaking changes, some APIs may still change according to user feedback. Please submit any feedback you may have in this issue: https://github.com/pytorch/vision/issues/6753, and you can also check out https://github.com/pytorch/vision/issues/7319 to learn more about the APIs that we suspect might involve future changes. You can silence this warning by calling torchvision.disable_beta_transforms_warning().\n",
      "  warnings.warn(_BETA_TRANSFORMS_WARNING)\n",
      "/opt/conda/lib/python3.10/site-packages/torchvision/transforms/v2/__init__.py:54: UserWarning: The torchvision.datapoints and torchvision.transforms.v2 namespaces are still Beta. While we do not expect major breaking changes, some APIs may still change according to user feedback. Please submit any feedback you may have in this issue: https://github.com/pytorch/vision/issues/6753, and you can also check out https://github.com/pytorch/vision/issues/7319 to learn more about the APIs that we suspect might involve future changes. You can silence this warning by calling torchvision.disable_beta_transforms_warning().\n",
      "  warnings.warn(_BETA_TRANSFORMS_WARNING)\n",
      "/opt/conda/lib/python3.10/site-packages/timm/models/layers/__init__.py:48: FutureWarning: Importing from timm.models.layers is deprecated, please import via timm.layers\n",
      "  warnings.warn(f\"Importing from {__name__} is deprecated, please import via timm.layers\", FutureWarning)\n"
     ]
    },
    {
     "data": {
      "text/plain": [
       "<Logger detectron2 (DEBUG)>"
      ]
     },
     "execution_count": 2,
     "metadata": {},
     "output_type": "execute_result"
    }
   ],
   "source": [
    "import os\n",
    "import sys\n",
    "import numpy as np\n",
    "import pandas as pd\n",
    "import torch\n",
    "import fiftyone as fo\n",
    "import cv2\n",
    "import matplotlib.pyplot as plt\n",
    "import PIL\n",
    "import requests\n",
    "\n",
    "from pathlib import Path\n",
    "from PIL import Image, ImageOps, ImageDraw, ImageFont\n",
    "from PIL.ExifTags import TAGS\n",
    "from pyzbar.pyzbar import decode, ZBarSymbol\n",
    "from torchvision import transforms\n",
    "from torchvision.ops import box_convert\n",
    "from IPython.display import display\n",
    "import argparse\n",
    "import copy\n",
    "from io import BytesIO\n",
    "\n",
    "from detectron2 import model_zoo\n",
    "from detectron2.utils.logger import setup_logger\n",
    "from detectron2.engine import DefaultPredictor\n",
    "from detectron2.data.catalog import Metadata\n",
    "from detectron2.config import get_cfg\n",
    "from detectron2.utils.visualizer import Visualizer, ColorMode\n",
    "\n",
    "import groundingdino.datasets.transforms as T\n",
    "from groundingdino.models import build_model\n",
    "from groundingdino.util import box_ops\n",
    "from groundingdino.util.slconfig import SLConfig\n",
    "from groundingdino.util.utils import clean_state_dict, get_phrases_from_posmap\n",
    "from groundingdino.util.inference import annotate, load_image, predict\n",
    "\n",
    "import supervision as sv\n",
    "from segment_anything import build_sam, SamPredictor\n",
    "from huggingface_hub import hf_hub_download\n",
    "from pycocotools.coco import COCO\n",
    "\n",
    "# Set up the logger for detectron2\n",
    "setup_logger()\n"
   ]
  },
  {
   "cell_type": "markdown",
   "id": "93e1200e-fc68-4c54-8738-7aef224e0dd8",
   "metadata": {
    "tags": []
   },
   "source": [
    "### Load Grounding Dino Model\n"
   ]
  },
  {
   "cell_type": "markdown",
   "id": "ac07a369-dc8a-48f8-8e7c-4895e7899aa4",
   "metadata": {},
   "source": [
    "Load the Grounding DINO Model which will be used to predict bounding boxes, given a text prompt."
   ]
  },
  {
   "cell_type": "code",
   "execution_count": 3,
   "id": "e04f7fa8-1d6d-4130-89cf-4a1e49bc153b",
   "metadata": {
    "tags": []
   },
   "outputs": [
    {
     "data": {
      "application/vnd.jupyter.widget-view+json": {
       "model_id": "7684a414173e4c2c8ccd888b29859a3a",
       "version_major": 2,
       "version_minor": 0
      },
      "text/plain": [
       "GroundingDINO_SwinB.cfg.py:   0%|          | 0.00/1.01k [00:00<?, ?B/s]"
      ]
     },
     "metadata": {},
     "output_type": "display_data"
    },
    {
     "name": "stderr",
     "output_type": "stream",
     "text": [
      "/opt/conda/lib/python3.10/site-packages/torch/functional.py:504: UserWarning: torch.meshgrid: in an upcoming release, it will be required to pass the indexing argument. (Triggered internally at ../aten/src/ATen/native/TensorShape.cpp:3483.)\n",
      "  return _VF.meshgrid(tensors, **kwargs)  # type: ignore[attr-defined]\n"
     ]
    },
    {
     "name": "stdout",
     "output_type": "stream",
     "text": [
      "final text_encoder_type: bert-base-uncased\n"
     ]
    },
    {
     "data": {
      "application/vnd.jupyter.widget-view+json": {
       "model_id": "2e773e56647a4ddfaa14f4c30396e08b",
       "version_major": 2,
       "version_minor": 0
      },
      "text/plain": [
       "tokenizer_config.json:   0%|          | 0.00/48.0 [00:00<?, ?B/s]"
      ]
     },
     "metadata": {},
     "output_type": "display_data"
    },
    {
     "data": {
      "application/vnd.jupyter.widget-view+json": {
       "model_id": "ef42b1f89c9d4fc9b52efca186f15af5",
       "version_major": 2,
       "version_minor": 0
      },
      "text/plain": [
       "config.json:   0%|          | 0.00/570 [00:00<?, ?B/s]"
      ]
     },
     "metadata": {},
     "output_type": "display_data"
    },
    {
     "data": {
      "application/vnd.jupyter.widget-view+json": {
       "model_id": "478fff26dd14430a82d63d6f8d0c8936",
       "version_major": 2,
       "version_minor": 0
      },
      "text/plain": [
       "vocab.txt:   0%|          | 0.00/232k [00:00<?, ?B/s]"
      ]
     },
     "metadata": {},
     "output_type": "display_data"
    },
    {
     "data": {
      "application/vnd.jupyter.widget-view+json": {
       "model_id": "3abbebf0f2f949b78b97aed923e77825",
       "version_major": 2,
       "version_minor": 0
      },
      "text/plain": [
       "tokenizer.json:   0%|          | 0.00/466k [00:00<?, ?B/s]"
      ]
     },
     "metadata": {},
     "output_type": "display_data"
    },
    {
     "data": {
      "application/vnd.jupyter.widget-view+json": {
       "model_id": "451e1bc88c8744728a82fedd3927bd50",
       "version_major": 2,
       "version_minor": 0
      },
      "text/plain": [
       "model.safetensors:   0%|          | 0.00/440M [00:00<?, ?B/s]"
      ]
     },
     "metadata": {},
     "output_type": "display_data"
    },
    {
     "data": {
      "application/vnd.jupyter.widget-view+json": {
       "model_id": "d96af535776c4709a2af1ab31225ed9e",
       "version_major": 2,
       "version_minor": 0
      },
      "text/plain": [
       "groundingdino_swinb_cogcoor.pth:   0%|          | 0.00/938M [00:00<?, ?B/s]"
      ]
     },
     "metadata": {},
     "output_type": "display_data"
    },
    {
     "name": "stdout",
     "output_type": "stream",
     "text": [
      "Model loaded from /home/jovyan/.cache/huggingface/hub/models--ShilongLiu--GroundingDINO/snapshots/a94c9b567a2a374598f05c584e96798a170c56fb/groundingdino_swinb_cogcoor.pth \n",
      " => _IncompatibleKeys(missing_keys=[], unexpected_keys=['label_enc.weight', 'bert.embeddings.position_ids'])\n"
     ]
    }
   ],
   "source": [
    "def load_model_hf(repo_id, filename, ckpt_config_filename, device='cpu'):\n",
    "    cache_config_file = hf_hub_download(repo_id=repo_id, filename=ckpt_config_filename)\n",
    "\n",
    "    args = SLConfig.fromfile(cache_config_file) \n",
    "    model = build_model(args)\n",
    "    args.device = device\n",
    "\n",
    "    cache_file = hf_hub_download(repo_id=repo_id, filename=filename)\n",
    "    checkpoint = torch.load(cache_file, map_location='cpu')\n",
    "    log = model.load_state_dict(clean_state_dict(checkpoint['model']), strict=False)\n",
    "    print(\"Model loaded from {} \\n => {}\".format(cache_file, log))\n",
    "    _ = model.eval()\n",
    "    return model\n",
    "\n",
    "\n",
    "ckpt_repo_id = \"ShilongLiu/GroundingDINO\"\n",
    "ckpt_filenmae = \"groundingdino_swinb_cogcoor.pth\"\n",
    "ckpt_config_filename = \"GroundingDINO_SwinB.cfg.py\"\n",
    "\n",
    "groundingdino_model = load_model_hf(ckpt_repo_id, ckpt_filenmae, ckpt_config_filename)"
   ]
  },
  {
   "cell_type": "markdown",
   "id": "b33ffa60-8677-4bc7-9545-baa01093ec9f",
   "metadata": {},
   "source": [
    "### Load Segment Anything Model (SAM)\n",
    "\n",
    "Segment Anything will be used to generate segmentation leaves for detected leaf bounding boxes from Grounding DINO output."
   ]
  },
  {
   "cell_type": "code",
   "execution_count": 6,
   "id": "808203b1-5caa-4ff8-b924-27d8153c3017",
   "metadata": {
    "tags": []
   },
   "outputs": [
    {
     "name": "stdout",
     "output_type": "stream",
     "text": [
      "--2024-06-24 20:05:00--  https://dl.fbaipublicfiles.com/segment_anything/sam_vit_h_4b8939.pth\n",
      "Resolving dl.fbaipublicfiles.com (dl.fbaipublicfiles.com)... 18.155.173.116, 18.155.173.40, 18.155.173.79, ...\n",
      "Connecting to dl.fbaipublicfiles.com (dl.fbaipublicfiles.com)|18.155.173.116|:443... connected.\n",
      "HTTP request sent, awaiting response... 200 OK\n",
      "Length: 2564550879 (2.4G) [binary/octet-stream]\n",
      "Saving to: ‘sam_vit_h_4b8939.pth.3’\n",
      "\n",
      "sam_vit_h_4b8939.pt 100%[===================>]   2.39G   102MB/s    in 23s     \n",
      "\n",
      "2024-06-24 20:05:23 (104 MB/s) - ‘sam_vit_h_4b8939.pth.3’ saved [2564550879/2564550879]\n",
      "\n"
     ]
    }
   ],
   "source": [
    "! wget https://dl.fbaipublicfiles.com/segment_anything/sam_vit_h_4b8939.pth"
   ]
  },
  {
   "cell_type": "code",
   "execution_count": 4,
   "id": "0cb812bb-437c-404d-8c04-83d45dfcd2ff",
   "metadata": {
    "tags": []
   },
   "outputs": [],
   "source": [
    "DEVICE = torch.device('cuda:0' if torch.cuda.is_available() else 'cpu')\n",
    "\n",
    "sam_checkpoint = 'sam_vit_h_4b8939.pth'\n",
    "sam = build_sam(checkpoint=sam_checkpoint)\n",
    "sam.to(device=DEVICE)\n",
    "sam_predictor = SamPredictor(sam)"
   ]
  },
  {
   "cell_type": "markdown",
   "id": "3dd33d2b-5c5d-4ae2-b5bf-a01167751ccc",
   "metadata": {},
   "source": [
    "### Initialize Functions for Evaluation"
   ]
  },
  {
   "cell_type": "code",
   "execution_count": 57,
   "id": "13e85bd1-58cf-4136-8d00-00cef1dcd741",
   "metadata": {
    "tags": []
   },
   "outputs": [],
   "source": [
    "import numpy as np\n",
    "\n",
    "def iou(gtmask, test_mask):\n",
    "    intersection = np.logical_and(gtmask, test_mask)\n",
    "    union = np.logical_or(gtmask, test_mask)\n",
    "    iou_score = np.sum(intersection) / np.sum(union)\n",
    "    return (iou_score)\n",
    "\n",
    "# Usually there is a mask for the entire plant in addition to individual leaves. \n",
    "# This function attempts to remove the full plant mask by caclculating the iou of each mask and the union of all masks.\n",
    "def check_full_plant(masks):\n",
    "    # Initialize the combined mask\n",
    "    mask_all = np.zeros(masks[0].shape, dtype=np.float32)\n",
    "\n",
    "    # Combine all masks into one\n",
    "    for mask in masks:\n",
    "        mask_all += mask.astype(np.float32)\n",
    "\n",
    "    iou_withall = []\n",
    "    # Calculate IoU for each mask with the combined mask\n",
    "    for mask in masks:\n",
    "        iou_withall.append(iou(mask, mask_all))\n",
    "\n",
    "    idx_notall = np.array(iou_withall) < 0.9\n",
    "    return idx_notall\n",
    "\n",
    "def annotate_masks_in_image(masks, image, include, random_color=True):\n",
    "    # Convert image to RGBA\n",
    "    annotated_frame_pil = Image.fromarray(image).convert(\"RGBA\")\n",
    "\n",
    "    \n",
    "    # Iterate through each mask\n",
    "    for i in range(masks.shape[0]):\n",
    "        if (include[i]):\n",
    "            mask = masks[i]\n",
    "            if random_color:\n",
    "                color = np.concatenate([np.random.random(3), np.array([0.8])], axis=0)\n",
    "            else:\n",
    "                color = np.array([30/255, 144/255, 255/255, 0.6])\n",
    "\n",
    "            h, w = mask.shape[-2:]\n",
    "            mask_image = mask.reshape(h, w, 1) * color.reshape(1, 1, -1)\n",
    "\n",
    "            mask_image_pil = Image.fromarray((mask_image * 255).astype(np.uint8)).convert(\"RGBA\")\n",
    "\n",
    "            # Composite the mask with the image\n",
    "            annotated_frame_pil = Image.alpha_composite(annotated_frame_pil, mask_image_pil)\n",
    "    \n",
    "    return np.array(annotated_frame_pil)\n",
    "\n",
    "# Returns relative bbox for FiftyOne and cropped mask\n",
    "def get_bbox_for_plant(file_name):\n",
    "    \n",
    "    image_id = next(img['id'] for img in coco_data['images'] if img['file_name'] == file_name)\n",
    "\n",
    "    # Get annotations for the image ID with label 'leaf'\n",
    "    leaf_annotations = [ann for ann in coco_data['annotations'] if ann['image_id'] == image_id and coco_data['categories'][ann['category_id']]['name'] == 'leaf']\n",
    "\n",
    "    # Calculate the bounding box that encompasses all leaf annotations\n",
    "    if leaf_annotations:\n",
    "        x_min = min(ann['bbox'][0] for ann in leaf_annotations)\n",
    "        y_min = min(ann['bbox'][1] for ann in leaf_annotations)\n",
    "        x_max = max(ann['bbox'][0] + ann['bbox'][2] for ann in leaf_annotations)\n",
    "        y_max = max(ann['bbox'][1] + ann['bbox'][3] for ann in leaf_annotations)\n",
    "        plant_bbox = [x_min, y_min, x_max - x_min, y_max - y_min]\n",
    "    else:\n",
    "        plant_bbox = None\n",
    "\n",
    "    return plant_bbox\n",
    "\n",
    "def convert_bbox_to_full_image(bbox_cropped, bbox_full_image):\n",
    "    x_min_cropped, y_min_cropped, width_cropped, height_cropped = bbox_cropped\n",
    "    x_min_full, y_min_full, width_full, height_full = bbox_full_image\n",
    "\n",
    "    x_min = x_min_full + x_min_cropped\n",
    "    y_min = y_min_full + y_min_cropped\n",
    "    x_max = x_min + width_cropped\n",
    "    y_max = y_min + height_cropped\n",
    "\n",
    "    return x_min, y_min, x_max, y_max\n",
    "\n",
    "def adjust_mask(mask_cropped, bbox_cropped, full_image_shape):\n",
    "\n",
    "    x_min_cropped, y_min_cropped, width_cropped, height_cropped = bbox_cropped\n",
    "    full_image_height, full_image_width = full_image_shape[:2]\n",
    "\n",
    "    if len(mask_cropped.shape) == 3 and mask_cropped.shape[0] == 1:\n",
    "        mask_cropped = mask_cropped[0]\n",
    "\n",
    "    # Create an empty mask for the full image\n",
    "    mask_full = np.zeros((full_image_height, full_image_width), dtype=bool)\n",
    "\n",
    "    # Determine the location in the full image where the cropped mask should be placed\n",
    "    x_min_full = int(x_min_cropped)\n",
    "    y_min_full = int(y_min_cropped)\n",
    "\n",
    "    # Place the cropped mask in the corresponding location in the full image mask\n",
    "    mask_full[y_min_full:y_min_full+mask_cropped.shape[0], x_min_full:x_min_full+mask_cropped.shape[1]] = mask_cropped\n",
    "\n",
    "    return mask_full\n",
    "\n"
   ]
  },
  {
   "cell_type": "code",
   "execution_count": 8,
   "id": "07ad79a9-9c16-41d1-bbef-ab92fada8704",
   "metadata": {
    "tags": []
   },
   "outputs": [],
   "source": [
    "import matplotlib.patches as patches\n",
    "\n",
    "# x_min: The x-coordinate of the top-left corner of the bounding box.\n",
    "# y_min: The y-coordinate of the top-left corner of the bounding box.\n",
    "# width: The width of the bounding box.\n",
    "# height: The height of the bounding box.\n",
    "\n",
    "def visualize_bbox(image_path, bbox):\n",
    "    img = Image.open(image_path)\n",
    "    fig, ax = plt.subplots(1)\n",
    "    ax.imshow(img)\n",
    "    \n",
    "    rect = patches.Rectangle((bbox[0], bbox[1]), bbox[2], bbox[3], linewidth=2, edgecolor='r', facecolor='none')\n",
    "    ax.add_patch(rect)\n",
    "\n",
    "    plt.show()"
   ]
  },
  {
   "cell_type": "code",
   "execution_count": 9,
   "id": "20875cc1-349f-4aa9-9c6d-d8de58ea5348",
   "metadata": {
    "tags": []
   },
   "outputs": [],
   "source": [
    "# Returns relative bbox for FiftyOne and cropped mask\n",
    "def relative_mask_bbox(mask, file_name, image):\n",
    "    \n",
    "    plant_bbox = get_bbox_for_plant(file_name)\n",
    "    # Assume we have the bbox of the full image\n",
    "    \n",
    "    if not plant_bbox:\n",
    "        plant_bbox = [0, 0, image.shape[1], image.shape[0]]\n",
    "    \n",
    "    bbox_full_image = [0, 0, image.shape[1], image.shape[0]]  # Full image bounding box\n",
    "\n",
    "    # Convert bbox to full image coordinates\n",
    "    bbox_full = convert_bbox_to_full_image(plant_bbox, bbox_full_image)\n",
    "    mask_full = adjust_mask(mask, plant_bbox, image.shape)\n",
    "    \n",
    "\n",
    "    # Find the coordinates of the nonzero elements in the mask\n",
    "    nonzero_rows, nonzero_cols = np.nonzero(mask_full)\n",
    "\n",
    "    # Calculate the bounding box of the leaf\n",
    "    x_min = np.min(nonzero_cols)\n",
    "    x_max = np.max(nonzero_cols)\n",
    "    y_min = np.min(nonzero_rows)\n",
    "    y_max = np.max(nonzero_rows)\n",
    "\n",
    "    # Create an array representing the bounding box [x_min, y_min, width, height]\n",
    "    cropped_mask = mask_full[y_min:y_max, x_min:x_max]\\\n",
    "\n",
    "    return x_min, y_min, x_max, y_max, cropped_mask\n",
    "\n",
    "        "
   ]
  },
  {
   "cell_type": "code",
   "execution_count": 10,
   "id": "6c2fff45-dc9f-41a1-91fe-a29274b83558",
   "metadata": {
    "tags": []
   },
   "outputs": [],
   "source": [
    "def is_bbox_large(bbox, threshold=0.9):\n",
    "    \"\"\"\n",
    "    Check if bbox covers a large portion of the image.\n",
    "\n",
    "    Parameters:\n",
    "    - bbox: List representing the bounding box [x, y, width, height].\n",
    "    - threshold: Threshold percentage for considering a bbox as covering a large portion of the image.\n",
    "\n",
    "    Returns:\n",
    "    - True if bbox covers a large portion of the image, False otherwise.\n",
    "    \"\"\"\n",
    "    _, _, width, height = bbox\n",
    "    bbox_area = width * height\n",
    "    image_area = 1.0  # Assuming image area is 1 (normalized coordinates)\n",
    "    return bbox_area >= threshold * image_area\n",
    "\n",
    "def filter_large_bboxes(boxes, threshold=0.9):\n",
    "    \"\"\"\n",
    "    Filter out bounding boxes that cover a large portion of the image.\n",
    "\n",
    "    Parameters:\n",
    "    - boxes: Tensor of bounding boxes in the format (left, top, width, height).\n",
    "    - image_size: Tuple representing the size of the image (width, height).\n",
    "    - threshold: Threshold percentage for considering a bbox as covering a large portion of the image.\n",
    "\n",
    "    Returns:\n",
    "    - Tensor of bounding boxes that do not cover a large portion of the image.\n",
    "    \"\"\"\n",
    "    filtered_boxes = []\n",
    "    for bbox in boxes:\n",
    "        if not is_bbox_large(bbox, threshold):\n",
    "            filtered_boxes.append(bbox)\n",
    "    if len(filtered_boxes) > 0:\n",
    "        return torch.stack(filtered_boxes)\n",
    "    else:\n",
    "        # Return an empty tensor with the same shape as the input boxes\n",
    "        return torch.empty_like(boxes)"
   ]
  },
  {
   "cell_type": "markdown",
   "id": "a363ea9b-dee6-4536-92a7-59411e16f119",
   "metadata": {},
   "source": [
    "# Running Grounded SAM on your dataset\n"
   ]
  },
  {
   "cell_type": "code",
   "execution_count": 11,
   "id": "2437332e-f435-4de1-a050-0676852694d9",
   "metadata": {
    "tags": []
   },
   "outputs": [
    {
     "data": {
      "text/plain": [
       "namespace(thing_classes=['leaf', 'qr', 'red-square'])"
      ]
     },
     "execution_count": 11,
     "metadata": {},
     "output_type": "execute_result"
    }
   ],
   "source": [
    "import json\n",
    "\n",
    "# name of output folder\n",
    "output_file_name = '2025_grounded_sam'\n",
    "\n",
    "data_path = '/home/jovyan/work/data/2024-03-14_leaves'\n",
    "\n",
    "coco_annotation_path = '/home/jovyan/work/data/2025_leaves.json'\n",
    "with open(coco_annotation_path) as f:\n",
    "    coco_data = json.load(f)\n",
    "    coco_annotations = coco_data['annotations']\n",
    "    coco_images_info = coco_data['images']\n",
    "    coco_categories = coco_data['categories']"
   ]
  },
  {
   "cell_type": "markdown",
   "id": "25d74d00-4b68-47f3-843d-dbc3fe450638",
   "metadata": {},
   "source": [
    "Next, we load the images and annotations into a FiftyOne dataset."
   ]
  },
  {
   "cell_type": "code",
   "execution_count": 104,
   "id": "2aa46450-a34d-4cce-a954-e5b7668a9ecc",
   "metadata": {
    "tags": []
   },
   "outputs": [
    {
     "name": "stdout",
     "output_type": "stream",
     "text": []
    },
    {
     "name": "stdout",
     "output_type": "stream",
     "text": [
      " 100% |█████████████████| 176/176 [46.7s elapsed, 0s remaining, 2.3 samples/s]      \n"
     ]
    }
   ],
   "source": [
    "import numpy as np\n",
    "from PIL import Image, ImageOps\n",
    "import fiftyone as fo\n",
    "\n",
    "dataset = fo.Dataset.from_dir(\n",
    "    data_path=f\"{data_path}\",\n",
    "    labels_path=f\"{coco_annotation_path}\",\n",
    "    dataset_type=fo.types.COCODetectionDataset,\n",
    "    name=f\"{today}_grounded_sam\",\n",
    "    label_types=\"segmentations\",\n",
    "    overwrite=True\n",
    ")"
   ]
  },
  {
   "cell_type": "code",
   "execution_count": 105,
   "id": "22158348-7b28-44ff-b6d9-fd39df9e4c31",
   "metadata": {
    "tags": []
   },
   "outputs": [
    {
     "name": "stdout",
     "output_type": "stream",
     "text": [
      "leaf\n",
      "   0% ||----------------|   0/176 [17.5ms elapsed, ? remaining, ? samples/s] "
     ]
    },
    {
     "name": "stderr",
     "output_type": "stream",
     "text": [
      "/opt/conda/lib/python3.10/site-packages/transformers/modeling_utils.py:1044: FutureWarning: The `device` argument is deprecated and will be removed in v5 of Transformers.\n",
      "  warnings.warn(\n",
      "/opt/conda/lib/python3.10/site-packages/torch/utils/checkpoint.py:31: UserWarning: None of the inputs have requires_grad=True. Gradients will be None\n",
      "  warnings.warn(\"None of the inputs have requires_grad=True. Gradients will be None\")\n"
     ]
    },
    {
     "name": "stdout",
     "output_type": "stream",
     "text": [
      "  12% |██---------------|  22/176 [22.7s elapsed, 2.7m remaining, 0.9 samples/s] "
     ]
    },
    {
     "name": "stderr",
     "output_type": "stream",
     "text": [
      "/tmp/ipykernel_82/1864294252.py:6: RuntimeWarning: invalid value encountered in scalar divide\n",
      "  iou_score = np.sum(intersection) / np.sum(union)\n"
     ]
    },
    {
     "name": "stdout",
     "output_type": "stream",
     "text": [
      " 100% |█████████████████| 176/176 [3.6m elapsed, 0s remaining, 0.7 samples/s]    \n",
      "Predicted Classes: ['leaf']\n",
      "417\n",
      "Evaluating detections...\n",
      " 100% |█████████████████| 169/169 [7.5s elapsed, 0s remaining, 13.2 samples/s]      \n",
      "Performing IoU sweep...\n",
      " 100% |█████████████████| 169/169 [2.4s elapsed, 0s remaining, 58.1 samples/s]          \n",
      "leaf . partial leaf\n",
      " 100% |█████████████████| 176/176 [3.8m elapsed, 0s remaining, 0.7 samples/s]      \n",
      "Predicted Classes: ['leaf', 'leaf leaf', 'leaf partial', 'leaf partial leaf', 'partial leaf']\n",
      "529\n",
      "Evaluating detections...\n",
      " 100% |█████████████████| 169/169 [7.7s elapsed, 0s remaining, 12.8 samples/s]      \n",
      "Performing IoU sweep...\n",
      " 100% |█████████████████| 169/169 [2.7s elapsed, 0s remaining, 54.8 samples/s]      \n",
      "leaf . long narrow leaf\n",
      " 100% |█████████████████| 176/176 [3.7m elapsed, 0s remaining, 0.7 samples/s]      \n",
      "Predicted Classes: ['leaf', 'leaf leaf', 'leaf long narrow leaf', 'leaf narrow leaf', 'long narrow leaf', 'narrow leaf']\n",
      "455\n",
      "Evaluating detections...\n",
      " 100% |█████████████████| 169/169 [7.1s elapsed, 0s remaining, 12.6 samples/s]      \n",
      "Performing IoU sweep...\n",
      " 100% |█████████████████| 169/169 [2.5s elapsed, 0s remaining, 56.0 samples/s]      \n",
      "leaf . long narrow leaf . curled leaf\n",
      " 100% |█████████████████| 176/176 [3.9m elapsed, 0s remaining, 0.7 samples/s]      \n",
      "Predicted Classes: ['curled leaf', 'leaf', 'leaf curled', 'leaf curled leaf', 'leaf leaf', 'leaf leaf curled', 'leaf leaf curled leaf', 'leaf long narrow leaf', 'leaf long narrow leaf curled leaf', 'leaf narrow', 'leaf narrow leaf', 'leaf narrow leaf curled', 'leaf narrow leaf curled leaf', 'long narrow leaf', 'long narrow leaf curled', 'narrow leaf', 'narrow leaf curled leaf']\n",
      "604\n",
      "Evaluating detections...\n",
      " 100% |█████████████████| 169/169 [8.1s elapsed, 0s remaining, 10.8 samples/s]      \n",
      "Performing IoU sweep...\n",
      " 100% |█████████████████| 169/169 [2.8s elapsed, 0s remaining, 51.9 samples/s]      \n",
      "leaf . partial leaf . curled leaf . red leaf . long narrow leaf\n",
      " 100% |█████████████████| 176/176 [3.9m elapsed, 0s remaining, 0.6 samples/s]    \n",
      "Predicted Classes: ['curled leaf', 'curled leaf long narrow leaf', 'curled leaf narrow leaf', 'curled long narrow leaf', 'curled narrow leaf', 'curled red leaf', 'leaf', 'leaf curled', 'leaf curled leaf', 'leaf curled leaf leaf', 'leaf curled leaf long narrow leaf', 'leaf curled leaf narrow leaf', 'leaf curled long narrow leaf', 'leaf curled narrow', 'leaf curled narrow leaf', 'leaf leaf curled leaf', 'leaf long narrow leaf', 'leaf narrow', 'leaf narrow leaf', 'leaf partial curled leaf', 'leaf partial curled leaf long narrow leaf', 'leaf partial curled leaf narrow leaf', 'leaf partial curled narrow leaf', 'leaf partial leaf curled', 'leaf partial leaf curled leaf', 'leaf partial leaf curled leaf leaf', 'leaf partial leaf curled leaf long narrow leaf', 'leaf partial leaf curled leaf narrow', 'leaf partial leaf curled leaf narrow leaf', 'leaf partial leaf curled narrow leaf', 'long narrow leaf', 'narrow leaf', 'partial curled narrow leaf', 'partial leaf', 'partial leaf curled', 'partial leaf curled leaf', 'partial leaf curled leaf narrow', 'partial leaf curled leaf narrow leaf', 'partial leaf curled leaf red leaf', 'partial leaf red leaf', 'partial narrow leaf', 'red leaf', 'red leaf narrow leaf']\n",
      "558\n",
      "Evaluating detections...\n",
      " 100% |█████████████████| 169/169 [7.6s elapsed, 0s remaining, 12.2 samples/s]      \n",
      "Performing IoU sweep...\n",
      " 100% |█████████████████| 169/169 [2.7s elapsed, 0s remaining, 54.8 samples/s]      \n",
      "leaf . green leaf with crystals . long narrow leaf . sprouting leaf\n",
      " 100% |█████████████████| 176/176 [3.7m elapsed, 0s remaining, 0.8 samples/s]      \n",
      "Predicted Classes: ['crystals', 'green leaf', 'green leaf leaf', 'green leaf leaf leaf', 'green leaf leafrouting leaf', 'green leaf narrow leaf', 'green leaf narrow leaf leaf', 'green leaf narrow leaf sprouting leaf', 'green leaf narrow leafrouting leaf', 'green leaf narrow leafting leaf', 'green leaf narrow sprouting leaf', 'green leaf sprouting leaf', 'green leafrouting leaf', 'green leafting', 'green leafting leaf', 'leaf', 'leaf green leaf', 'leaf green leaf leaf', 'leaf green leaf narrow leaf', 'leaf green leaf narrow leaf leaf', 'leaf green leaf narrow leaf sprouting leaf', 'leaf green leaf narrow leafting leaf', 'leaf green leaf narrowrouting leaf', 'leaf green leaf sprouting leaf', 'leaf green leafting leaf', 'leaf narrow leaf', 'leaf narrow leaf leaf', 'leafrouting leaf', 'long narrow leaf', 'long narrow leaf sprouting leaf', 'long narrow leafting', 'long narrow leafting leaf', 'narrow leaf', 'narrow leaf leaf', 'narrow leaf sprouting leaf', 'narrow leafrouting leaf', 'narrow leafting', 'narrow leafting leaf', 'sprouting leaf']\n",
      "462\n",
      "Evaluating detections...\n",
      " 100% |█████████████████| 169/169 [6.7s elapsed, 0s remaining, 14.1 samples/s]      \n",
      "Performing IoU sweep...\n",
      " 100% |█████████████████| 169/169 [2.5s elapsed, 0s remaining, 58.1 samples/s]      \n",
      "leaf . green leaf with crystals . long narrow leaf . sprouting leaf . broad leaf\n",
      " 100% |█████████████████| 176/176 [3.7m elapsed, 0s remaining, 0.8 samples/s]      \n",
      "Predicted Classes: ['##routing leaf', 'green leaf', 'green leaf broad leaf', 'green leaf leaf', 'green leaf leaf broad leaf', 'green leaf leafting broad leaf', 'green leaf leafting leaf broad leaf', 'green leaf narrow', 'green leaf narrow leaf', 'green leaf narrow leaf broad', 'green leaf narrow leaf broad leaf', 'green leaf narrow leaf leaf', 'green leaf narrow leaf leaf broad leaf', 'green leaf narrow leaf sprouting leaf broad', 'green leaf narrow leafrouting leaf', 'green leaf narrow leafrouting leaf broad', 'green leaf narrow leafrouting leaf broad leaf', 'green leaf narrow leafting', 'green leaf narrow leafting leaf', 'green leaf narrow leafting leaf broad leaf', 'green leaf narrow sprouting leaf', 'green leaf narrowrouting leaf broad leaf', 'green leaf narrowting', 'green leaf narrowting leaf', 'green leaf sprouting leaf', 'green leafrouting leaf', 'green leafrouting leaf broad', 'green leafting', 'green leafting leaf', 'green leafting leaf broad', 'green leafting leaf broad leaf', 'green narrow leaf', 'leaf green leaf', 'leaf green leaf narrow leaf', 'leaf green leafting', 'leaf green leafting leaf', 'leaf narrow leaf broad leaf', 'long narrow leaf', 'long narrow leaf broad leaf', 'long narrow leaf sprouting leaf', 'narrow leaf', 'narrow leaf broad', 'narrow leaf broad leaf', 'narrow leaf sprouting leaf', 'narrow leaf sprouting leaf broad leaf', 'narrow leafrouting leaf', 'narrow leafrouting leaf broad leaf', 'narrow leafting', 'narrow leafting broad', 'narrow leafting broad leaf', 'narrow leafting leaf', 'narrow leafting leaf broad leaf', 'sprouting leaf']\n",
      "445\n",
      "Evaluating detections...\n",
      " 100% |█████████████████| 169/169 [6.6s elapsed, 0s remaining, 14.6 samples/s]      \n",
      "Performing IoU sweep...\n",
      " 100% |█████████████████| 169/169 [2.4s elapsed, 0s remaining, 60.7 samples/s]      \n",
      "leaf . green leaf with white texture . long narrow leaf . sprouting leaf . red leaf\n",
      " 100% |█████████████████| 176/176 [3.9m elapsed, 0s remaining, 0.7 samples/s]    \n",
      "Predicted Classes: ['##routing leaf', 'green leaf', 'green leaf leaf', 'green leaf narrow', 'green leaf narrow leaf', 'green leaf narrow leaf leaf', 'green leaf narrow leaf sprouting leaf', 'green leaf narrow leafrouting leaf', 'green leaf narrow leafting leaf', 'green leaf narrow sprouting leaf', 'green leaf narrowting leaf', 'green leaf sprouting leaf', 'green leafrouting leaf', 'green leafting', 'green leafting leaf', 'green narrow leaf sprouting leaf', 'green narrow leafting leaf red leaf', 'leaf green leaf', 'leaf green leaf leaf', 'leaf green leaf leafting leaf', 'leaf green leaf narrow leaf', 'leaf green leaf narrow leaf sprouting leaf', 'leaf green leaf narrow leafrouting leaf', 'leaf green leafrouting leaf', 'leaf green leafting', 'leaf green leafting leaf', 'leaf narrow leaf sprouting leaf', 'leaf narrow leafting leaf', 'leafrouting leaf', 'long narrow leaf', 'long narrow leaf sprouting leaf', 'long narrow leafting', 'narrow leaf', 'narrow leaf leaf', 'narrow leaf red leaf', 'narrow leaf sprouting leaf', 'narrow leafrouting leaf', 'narrow leafting', 'narrow leafting leaf', 'narrowrouting leaf', 'red leaf', 'sprouting leaf', 'sprouting leaf red leaf']\n",
      "542\n",
      "Evaluating detections...\n",
      " 100% |█████████████████| 169/169 [7.1s elapsed, 0s remaining, 13.3 samples/s]      \n",
      "Performing IoU sweep...\n",
      " 100% |█████████████████| 169/169 [2.6s elapsed, 0s remaining, 55.8 samples/s]      \n",
      "leaf . green leaf with white speckles . long narrow leaf . sprouting leaf .  broad leaf . partial leaf . leaf with red tip . curled leaf\n",
      " 100% |█████████████████| 176/176 [3.8m elapsed, 0s remaining, 0.8 samples/s]    \n",
      "Predicted Classes: ['##ting leaf', '##ting partial leaf curled', 'broad leaf partial leaf curled leaf', 'broad partial leaf curled leaf', 'green leaf', 'green leaf broad leaf', 'green leaf broad leaf curled', 'green leaf broad leaf curled leaf', 'green leaf broad leaf leaf', 'green leaf curled', 'green leaf curled leaf', 'green leaf leaf', 'green leaf leaf broad leaf partial leaf curled leaf', 'green leaf leaf curled', 'green leaf leaf leaf', 'green leaf narrow leaf', 'green leaf narrow leaf broad leaf', 'green leaf narrow leaf broad leaf curled leaf', 'green leaf narrow leaf broad leaf partial leaf', 'green leaf narrow leaf curled leaf', 'green leaf narrow leafrouting leaf broad leaf curled leaf', 'green leaf narrow leafting broad leaf curled leaf', 'green leaf partial curled', 'green leaf partial leaf', 'green leaf partial leaf curled', 'green leaf partial leaf curled leaf', 'green leaf partial leaf leaf', 'green leaf sprouting leaf curled leaf', 'green leafrouting leaf', 'green leafrouting leaf curled leaf', 'green leafrouting leaf leaf curled leaf', 'green leafting', 'green leafting curled', 'green leafting curled leaf', 'green leafting leaf', 'green leafting leaf curled leaf', 'green leafting leaf leaf', 'green leafting leaf partial leaf curled leaf', 'green leafting leaf partial leaf leaf curled leaf', 'green partial leaf curled leaf', 'leaf', 'leaf broad leaf leaf', 'leaf broad leaf partial leaf curled leaf', 'leaf green leaf', 'leaf green leaf broad', 'leaf green leaf curled leaf', 'leaf green leaf leaf', 'leaf partial leaf curled leaf', 'long narrow leaf', 'narrow leaf', 'narrow leaf broad leaf', 'narrow leaf broad leaf curled leaf', 'narrow leaf broad leaf leaf', 'narrow leaf broad leaf partial leaf curled leaf', 'narrow leaf curled', 'narrow leaf leaf', 'narrow leaf leaf partial leaf curled leaf', 'narrow leaf partial', 'narrow leaf partial curled', 'narrow leaf partial leaf', 'narrow leaf partial leaf curled', 'narrow leaf partial leaf curled leaf', 'narrow leafrouting leaf broad leaf curled leaf', 'narrow leafting', 'narrow leafting broad leaf', 'narrow leafting leaf', 'narrow leafting leaf curled', 'narrow leafting leaf leaf', 'narrow leafting leaf partial leaf curled', 'narrow leafting partial leaf curled', 'partial leaf', 'partial leaf curled leaf', 'tip']\n",
      "501\n",
      "Evaluating detections...\n",
      " 100% |█████████████████| 169/169 [6.6s elapsed, 0s remaining, 17.7 samples/s]      \n",
      "Performing IoU sweep...\n",
      " 100% |█████████████████| 169/169 [2.5s elapsed, 0s remaining, 59.9 samples/s]      \n"
     ]
    }
   ],
   "source": [
    "import torch.nn.functional as F\n",
    "from fiftyone import ViewField as F_fo\n",
    "import csv\n",
    "\n",
    "sam_image_dir = '/home/jovyan/work/data/leaves_cropped'\n",
    "sam_output_folder = '/home/jovyan/work/data/grounded_sam/2025-02-06_prompt1'\n",
    "save_output_img = False\n",
    "\n",
    "TEXT_PROMPTS = [\n",
    "    \"leaf\",\n",
    "    \"leaf . partial leaf\",\n",
    "    \"leaf . long narrow leaf\",\n",
    "    \"leaf . long narrow leaf . curled leaf\",\n",
    "    \"leaf . partial leaf . curled leaf . red leaf . long narrow leaf\",\n",
    "    \"leaf . green leaf with crystals . long narrow leaf . sprouting leaf\",\n",
    "    \"leaf . green leaf with crystals . long narrow leaf . sprouting leaf . broad leaf\",\n",
    "    \"leaf . green leaf with white texture . long narrow leaf . sprouting leaf . red leaf\",\n",
    "    \"leaf . green leaf with white speckles . long narrow leaf . sprouting leaf .  broad leaf . partial leaf . leaf with red tip . curled leaf\",\n",
    "]\n",
    "\n",
    "BOX_TRESHOLD = 0.3\n",
    "TEXT_TRESHOLD = 0.25\n",
    "\n",
    "# Path to save metrics\n",
    "metrics_csv_path = '/home/jovyan/work/data/grounded_sam/metrics_results.csv'\n",
    "\n",
    "# Check if the CSV file already exists\n",
    "file_exists = os.path.isfile(metrics_csv_path)\n",
    "\n",
    "# Initialize the CSV file with headers if it doesn't exist\n",
    "if not file_exists:\n",
    "    with open(metrics_csv_path, mode='w', newline='') as file:\n",
    "        writer = csv.writer(file)\n",
    "        writer.writerow(['Prompt', 'mAP', 'TP', 'FP', 'FN', 'Precision', 'Recall', 'F1'])\n",
    "\n",
    "for TEXT_PROMPT in TEXT_PROMPTS:\n",
    "    \n",
    "    print(TEXT_PROMPT)\n",
    "\n",
    "    with fo.ProgressBar() as pb:\n",
    "        for sample in pb(dataset):\n",
    "\n",
    "            # Load full image\n",
    "            image = Image.open(sample.filepath)\n",
    "            image = ImageOps.exif_transpose(image)  # Ensure correct orientation\n",
    "            image_arr = np.array(image)\n",
    "            h, w, _ = image_arr.shape\n",
    "\n",
    "            # --------------------- Grounding Dino --------------------\n",
    "            file_name = os.path.basename(sample.filepath)\n",
    "            name, ext = os.path.splitext(file_name)\n",
    "\n",
    "\n",
    "            # get cropped images\n",
    "            file_path = f\"{sam_image_dir}/{name}_cropped{ext}\"\n",
    "\n",
    "            # if cropped image exists, use it\n",
    "            if os.path.exists(file_path):\n",
    "                image_source, dino_image = load_image(file_path)\n",
    "            # otherwise, use full image\n",
    "            else:\n",
    "                image_source, dino_image = load_image(sample.filepath)\n",
    "                # update to use full image\n",
    "                file_path = sample.filepath\n",
    "\n",
    "            # Get prediction bboxes from Grounding DINO\n",
    "            boxes, logits, phrases = predict(\n",
    "                model=groundingdino_model,\n",
    "                image=dino_image,\n",
    "                caption=TEXT_PROMPT,\n",
    "                box_threshold=BOX_TRESHOLD,\n",
    "                text_threshold=TEXT_TRESHOLD,\n",
    "                device=DEVICE\n",
    "            )\n",
    "\n",
    "            boxes = filter_large_bboxes(boxes, threshold=0.9)\n",
    "\n",
    "            if os.path.exists(file_path) and save_output_img:\n",
    "                # Annotate image with bounding boxes\n",
    "                annotated_frame = annotate(image_source=image_source, boxes=boxes, logits=logits, phrases=phrases)\n",
    "                annotated_frame = annotated_frame[..., ::-1]  # Convert BGR to RGB\n",
    "\n",
    "                # Save Grouding DINO bbox visualization to image\n",
    "                dino_result = Image.fromarray(annotated_frame)\n",
    "                dino_result.save(os.path.join(sam_output_folder, f\"{name}_dino_bboxes.png\"))\n",
    "\n",
    "            # Set image for SAM\n",
    "            sam_predictor.set_image(image_source)\n",
    "\n",
    "            # Convert box format and apply transformations\n",
    "            H, W, _ = image_source.shape\n",
    "            boxes_xyxy = box_ops.box_cxcywh_to_xyxy(boxes) * torch.Tensor([W, H, W, H])\n",
    "            transformed_boxes = sam_predictor.transform.apply_boxes_torch(boxes_xyxy, image_source.shape[:2]).to(DEVICE)\n",
    "\n",
    "            # Initialize list of FiftyOne detections for grounded sam predictions\n",
    "            grounded_sam_detections = []\n",
    "\n",
    "            if transformed_boxes.size(0) > 0:\n",
    "                masks, _, _ = sam_predictor.predict_torch(\n",
    "                    point_coords=None,\n",
    "                    point_labels=None,\n",
    "                    boxes=transformed_boxes,\n",
    "                    multimask_output=False,\n",
    "                )\n",
    "\n",
    "                masks_cpu = masks.cpu().numpy()\n",
    "                idx_not_full_plant = check_full_plant(masks_cpu)\n",
    "\n",
    "                if save_output_img:\n",
    "                    original_image = Image.open(file_path)\n",
    "                    image_array = np.array(original_image)\n",
    "                    annotated_frame_with_mask = annotate_masks_in_image(\n",
    "                        masks_cpu,\n",
    "                        image_array,\n",
    "                        idx_not_full_plant\n",
    "                    )\n",
    "                    output_image = Image.fromarray(annotated_frame_with_mask)\n",
    "                    output_image.save(f\"{sam_output_folder}/{name}_grounded_sam_masks.png\")\n",
    "\n",
    "                # Add Grounded SAM detections to FiftyOne dataset\n",
    "                for i in range(masks.shape[0]):\n",
    "                    if idx_not_full_plant[i]:\n",
    "                        mask = masks[i].cpu().numpy()\n",
    "\n",
    "                        x1, y1, x2, y2, bbox_mask = relative_mask_bbox(mask, file_name, image_arr)\n",
    "\n",
    "                        # Get confidence store\n",
    "                        confidence =  float(logits[i])\n",
    "                        label = phrases[i]\n",
    "\n",
    "                        grounded_sam_detections.append(fo.Detection(\n",
    "                            label=label,\n",
    "                            bounding_box=[\n",
    "                                min(x1, x2) / image.width,\n",
    "                                min(y1, y2) / image.height,\n",
    "                                abs(x2 - x1) / image.width,\n",
    "                                abs(y2 - y1) / image.height\n",
    "                            ],\n",
    "                            mask=bbox_mask,\n",
    "                            confidence=confidence\n",
    "                        ))\n",
    "\n",
    "            # Update sample with Grounded SAM detections\n",
    "            sample[\"grounded_sam_predictions\"] = fo.Detections(detections=grounded_sam_detections)\n",
    "            sample[\"height\"] = h\n",
    "            sample[\"width\"] = w\n",
    "            sample.tags.append(os.path.basename(sample.filepath))\n",
    "            sample.save()\n",
    "        \n",
    "    # List unique classes in the predicted labels\n",
    "    unique_pred_classes = dataset.distinct(\"grounded_sam_predictions.detections.label\")\n",
    "    print(\"Predicted Classes:\", unique_pred_classes)\n",
    "    \n",
    "    # Replace all leaf-related detection's labels with \"leaf\"\n",
    "    mapping = {k: \"leaf\" for k in unique_pred_classes}\n",
    "    normalized_view = dataset.map_labels(\"grounded_sam_predictions\", mapping)\n",
    "\n",
    "    counts = normalized_view.count_values(\"grounded_sam_predictions.detections.label\")\n",
    "    print(counts[\"leaf\"])\n",
    "\n",
    "    # Filter ground truth to include only 'leaf' detections\n",
    "    leaf_view = normalized_view.filter_labels(\"ground_truth\", F_fo(\"label\") == \"leaf\")\n",
    "\n",
    "    # Evaluate detections treating all as 'leaf'\n",
    "    results = leaf_view.evaluate_detections(\n",
    "        \"grounded_sam_predictions\",  # Normalized predictions field in the cloned dataset\n",
    "        gt_field=\"ground_truth\",     # Ground truth field\n",
    "        compute_mAP=True,\n",
    "        eval_key=\"eval\"\n",
    "    )\n",
    "\n",
    "    # Get mAP for 'leaf' class\n",
    "    map_score = results.mAP()\n",
    "    tp = leaf_view.sum(\"eval_tp\")\n",
    "    fp = leaf_view.sum(\"eval_fp\")\n",
    "    fn = leaf_view.sum(\"eval_fn\")\n",
    "\n",
    "    # Calculate Precision, Recall, and F1\n",
    "    precision = tp / (tp + fp) if (tp + fp) > 0 else 0.0\n",
    "    recall = tp / (tp + fn) if (tp + fn) > 0 else 0.0\n",
    "    f1_score = (2 * precision * recall) / (precision + recall) if (precision + recall) > 0 else 0.0\n",
    "\n",
    "    # Append metrics to CSV\n",
    "    with open(metrics_csv_path, mode='a', newline='') as file:\n",
    "        writer = csv.writer(file)\n",
    "        writer.writerow([TEXT_PROMPT, map_score, tp, fp, fn, precision, recall, f1_score])\n",
    "\n",
    "    \n",
    "    \n"
   ]
  },
  {
   "cell_type": "markdown",
   "id": "88b18363-221b-450a-83ed-5a80e0819154",
   "metadata": {},
   "source": [
    "## Calculate Evaluation metrics"
   ]
  },
  {
   "cell_type": "code",
   "execution_count": 94,
   "id": "0cb964c9-f585-40c8-ba01-caba14079a89",
   "metadata": {
    "tags": []
   },
   "outputs": [
    {
     "name": "stdout",
     "output_type": "stream",
     "text": [
      "Evaluating detections...\n",
      " 100% |█████████████████| 169/169 [6.4s elapsed, 0s remaining, 17.8 samples/s]      \n",
      "Performing IoU sweep...\n",
      " 100% |█████████████████| 169/169 [2.3s elapsed, 0s remaining, 63.9 samples/s]      \n",
      "Mean Average Precision (mAP) for 'leaf': 0.0081\n",
      "              precision    recall  f1-score   support\n",
      "\n",
      "        leaf       0.37      0.02      0.04      1001\n",
      "\n",
      "   micro avg       0.37      0.02      0.04      1001\n",
      "   macro avg       0.37      0.02      0.04      1001\n",
      "weighted avg       0.37      0.02      0.04      1001\n",
      "\n",
      "TP (leaf): 22\n",
      "FP (leaf): 479\n",
      "FN (leaf): 979\n",
      "{'accuracy': 0.014864864864864866, 'precision': 0.043912175648702596, 'recall': 0.02197802197802198, 'fscore': 0.029294274300932094, 'support': 1001}\n",
      "{'green leafting leaf curled leaf': 1, 'green leafrouting leaf leaf curled leaf': 1, 'green leaf narrow leafrouting leaf broad leaf curled leaf': 1, 'green leaf broad leaf curled leaf': 3, 'green leafting': 1, 'narrow leaf': 90, '##ting leaf': 1, 'leaf broad leaf leaf': 1, 'narrow leaf broad leaf': 9, 'green leaf sprouting leaf curled leaf': 1, 'leaf green leaf curled leaf': 1, 'leaf green leaf leaf': 1, 'green leaf narrow leaf broad leaf partial leaf': 1, 'green leaf narrow leafting broad leaf curled leaf': 1, 'green leaf leaf leaf': 1, 'green leaf': 169, 'leaf': 60, 'green partial leaf curled leaf': 2, 'green leafting curled': 2, 'narrow leaf partial leaf curled': 3, 'green leaf leaf curled': 1, 'partial leaf curled leaf': 13, 'broad leaf partial leaf curled leaf': 2, 'tip': 2, 'long narrow leaf': 19, 'leaf green leaf broad': 1, 'narrow leafting partial leaf curled': 1, 'broad partial leaf curled leaf': 1, 'leaf green leaf': 1, 'green leaf partial leaf curled leaf': 5, 'narrow leaf broad leaf leaf': 4, 'green leaf broad leaf curled': 1, 'green leaf narrow leaf': 2, 'narrow leaf leaf partial leaf curled leaf': 1, 'narrow leaf broad leaf curled leaf': 2, 'narrow leaf curled': 2, 'narrow leaf partial leaf': 5, 'green leaf partial leaf': 2, 'green leafting leaf': 7, 'green leafting leaf partial leaf leaf curled leaf': 1, 'green leaf narrow leaf broad leaf curled leaf': 2, 'narrow leafting leaf curled': 1, 'narrow leaf partial': 1, 'green leaf narrow leaf curled leaf': 1, 'green leafrouting leaf': 1, 'narrow leaf leaf': 4, 'narrow leaf broad leaf partial leaf curled leaf': 3, 'narrow leafting': 1, 'narrow leafting leaf leaf': 1, 'green leaf partial curled': 1, 'narrow leafting leaf': 1, 'green leaf leaf broad leaf partial leaf curled leaf': 1, 'narrow leafting broad leaf': 1, '##ting partial leaf curled': 2, 'green leafrouting leaf curled leaf': 2, 'green leaf partial leaf leaf': 1, 'narrow leaf partial curled': 1, 'green leaf curled leaf': 10, 'narrow leafting leaf partial leaf curled': 1, 'narrow leafrouting leaf broad leaf curled leaf': 1, 'green leafting leaf leaf': 3, 'green leaf broad leaf leaf': 1, 'green leafting leaf partial leaf curled leaf': 1, 'green leaf broad leaf': 4, 'leaf partial leaf curled leaf': 1, 'green leaf narrow leaf broad leaf': 3, 'narrow leaf partial leaf curled leaf': 4, 'partial leaf': 7, 'green leaf partial leaf curled': 1, 'green leaf leaf': 12, 'green leafting curled leaf': 2, 'leaf broad leaf partial leaf curled leaf': 1, 'green leaf curled': 1}\n"
     ]
    }
   ],
   "source": [
    "import fiftyone as fo\n",
    "import fiftyone.zoo as foz\n",
    "from fiftyone import ViewField as F\n",
    "\n",
    "# Filter ground truth and predictions to only include 'leaf' detections\n",
    "leaf_view = dataset.filter_labels(\"ground_truth\", F(\"label\") == \"leaf\")\n",
    "\n",
    "# Evaluate detections only for 'leaf' class\n",
    "results = leaf_view.evaluate_detections(\n",
    "    \"grounded_sam_predictions\",  # Predicted detections field\n",
    "    gt_field=\"ground_truth\",     # Ground truth field\n",
    "    compute_mAP=True,\n",
    "    eval_key=\"eval\"\n",
    ")\n",
    "\n",
    "# Get mAP for 'leaf' class\n",
    "map_score = results.mAP()\n",
    "print(f\"Mean Average Precision (mAP) for 'leaf': {map_score:.4f}\")\n",
    "\n",
    "# Print classification report for 'leaf'\n",
    "results.print_report(classes=[\"leaf\"])\n",
    "\n",
    "# Print TP, FP, FN specifically for 'leaf'\n",
    "print(\"TP (leaf): %d\" % leaf_view.sum(\"eval_tp\"))\n",
    "print(\"FP (leaf): %d\" % leaf_view.sum(\"eval_fp\"))\n",
    "print(\"FN (leaf): %d\" % leaf_view.sum(\"eval_fn\"))\n",
    "\n",
    "print(results.metrics())\n",
    "\n",
    "counts = dataset.count_values(\"grounded_sam_predictions.detections.label\")\n",
    "print(counts)"
   ]
  },
  {
   "cell_type": "code",
   "execution_count": 100,
   "id": "e14b5c44-5d6f-40af-a7f0-53bfc05e9dcb",
   "metadata": {
    "tags": []
   },
   "outputs": [
    {
     "name": "stdout",
     "output_type": "stream",
     "text": [
      "417\n",
      "Evaluating detections...\n",
      " 100% |█████████████████| 169/169 [7.0s elapsed, 0s remaining, 14.4 samples/s]      \n",
      "Performing IoU sweep...\n",
      " 100% |█████████████████| 169/169 [2.4s elapsed, 0s remaining, 55.7 samples/s]          \n",
      "Mean Average Precision (mAP) for 'leaf': 0.3003\n",
      "              precision    recall  f1-score   support\n",
      "\n",
      "        leaf       0.96      0.40      0.56      1001\n",
      "\n",
      "   micro avg       0.96      0.40      0.56      1001\n",
      "   macro avg       0.96      0.40      0.56      1001\n",
      "weighted avg       0.96      0.40      0.56      1001\n",
      "\n",
      "TP (leaf): 399\n",
      "FP (leaf): 18\n",
      "FN (leaf): 602\n",
      "{'accuracy': 0.3915603532875368, 'precision': 0.9568345323741008, 'recall': 0.3986013986013986, 'fscore': 0.5627644569816643, 'support': 1001}\n"
     ]
    }
   ],
   "source": [
    "import fiftyone as fo\n",
    "from fiftyone import ViewField as F\n",
    "\n",
    "# Replace all leaf-related detection's labels with \"leaf\"\n",
    "mapping = {k: \"leaf\" for k in unique_pred_classes}\n",
    "normalized_view = dataset.map_labels(\"grounded_sam_predictions\", mapping)\n",
    "\n",
    "counts = normalized_view.count_values(\"grounded_sam_predictions.detections.label\")\n",
    "print(counts[\"leaf\"])\n",
    "\n",
    "# Filter ground truth to include only 'leaf' detections\n",
    "leaf_view = normalized_view.filter_labels(\"ground_truth\", F(\"label\") == \"leaf\")\n",
    "\n",
    "# Evaluate detections treating all as 'leaf'\n",
    "results = leaf_view.evaluate_detections(\n",
    "    \"grounded_sam_predictions\",  # Normalized predictions field in the cloned dataset\n",
    "    gt_field=\"ground_truth\",     # Ground truth field\n",
    "    compute_mAP=True,\n",
    "    eval_key=\"eval\"\n",
    ")\n",
    "\n",
    "# Get mAP for 'leaf' class\n",
    "map_score = results.mAP()\n",
    "print(f\"Mean Average Precision (mAP) for 'leaf': {map_score:.4f}\")\n",
    "\n",
    "# Print classification report for 'leaf'\n",
    "results.print_report(classes=[\"leaf\"])\n",
    "\n",
    "# Print TP, FP, FN specifically for 'leaf'\n",
    "print(\"TP (leaf): %d\" % leaf_view.sum(\"eval_tp\"))\n",
    "print(\"FP (leaf): %d\" % leaf_view.sum(\"eval_fp\"))\n",
    "print(\"FN (leaf): %d\" % leaf_view.sum(\"eval_fn\"))\n",
    "\n",
    "# Print complete metrics\n",
    "print(results.metrics())\n"
   ]
  },
  {
   "cell_type": "code",
   "execution_count": 86,
   "id": "54f9d849-8477-4dda-9c06-fe0ebe34abc0",
   "metadata": {
    "tags": []
   },
   "outputs": [],
   "source": [
    "import numpy as np\n",
    "import matplotlib.pyplot as plt\n",
    "\n",
    "# FiftyOne stores its \n",
    "def convert_to_pixels(bbox, height, width):\n",
    "    x1, y1, w, h = bbox\n",
    "    return [x1 * width, y1 * height, (x1 + w) * width, (y1 + h) * height]\n",
    "\n",
    "def calculate_mask(detections, height, width):\n",
    "\n",
    "    # rebuild full mask\n",
    "    mask = np.zeros((height, width), dtype=bool)\n",
    "    for d in detections:\n",
    "        if d.label == 'leaf':\n",
    "            bbox = d.bounding_box\n",
    "            x1, y1, x2, y2 = convert_to_pixels(bbox, height, width)\n",
    "            mask[round(y1):round(y2), round(x1):round(x2)] |= d.mask\n",
    "    return mask\n",
    "\n",
    "def calculate_iou_and_dice(gt_mask, pred_mask):\n",
    "    \n",
    "    intersect = np.logical_and(gt_mask, pred_mask)\n",
    "    union = np.logical_or(gt_mask, pred_mask)\n",
    "    intersect_pixels = np.count_nonzero(intersect)\n",
    "    union_pixels = np.count_nonzero(union)\n",
    "    \n",
    "    # Normal IoU and Dice calculation when there are objects\n",
    "    iou = intersect_pixels / union_pixels if union_pixels else None\n",
    "    dice = (2 * intersect_pixels) / (np.count_nonzero(gt_mask) + np.count_nonzero(pred_mask)) if np.count_nonzero(gt_mask) + np.count_nonzero(pred_mask) else None\n",
    "    \n",
    "    return iou, dice\n",
    "\n",
    "def visualize_masks(gt_mask, pred_mask):\n",
    "    f, axarr = plt.subplots(1, 2)\n",
    "    plt.rcParams['figure.figsize'] = [10, 10]\n",
    "    axarr[0].title.set_text('Ground Truth')\n",
    "    axarr[1].title.set_text('Prediction')\n",
    "    axarr[0].imshow(gt_mask)\n",
    "    axarr[1].imshow(pred_mask)\n",
    "    plt.show()\n",
    "\n",
    "\n",
    "def count_leaves(detections):\n",
    "    return sum(1 for d in detections if hasattr(d, 'label') and d.label == 'leaf')\n",
    "\n",
    "    "
   ]
  },
  {
   "cell_type": "markdown",
   "id": "d6618474-d3ad-4943-9b82-695780378b1b",
   "metadata": {},
   "source": [
    "#### Visualize single sample and test metrics"
   ]
  },
  {
   "cell_type": "code",
   "execution_count": 34,
   "id": "4274c4e3-3650-4c19-a0ea-11152452670b",
   "metadata": {
    "tags": []
   },
   "outputs": [
    {
     "name": "stdout",
     "output_type": "stream",
     "text": [
      "IMG_6056.JPG\n"
     ]
    },
    {
     "data": {
      "image/png": "[encoded data removed]",
      "text/plain": [
       "<Figure size 640x480 with 2 Axes>"
      ]
     },
     "metadata": {},
     "output_type": "display_data"
    }
   ],
   "source": [
    "sample = dataset.last()\n",
    "print(sample.filename)\n",
    "height, width = sample.height, sample.width\n",
    "ground_truth_mask = calculate_mask(sample.ground_truth.detections, height, width)\n",
    "prediction_mask = calculate_mask(sample.grounded_sam_predictions.detections, height, width)\n",
    "visualize_masks(ground_truth_mask, prediction_mask)"
   ]
  },
  {
   "cell_type": "code",
   "execution_count": null,
   "id": "3292b328-cbea-4fc5-bf5b-49811ced8d34",
   "metadata": {},
   "outputs": [],
   "source": []
  },
  {
   "cell_type": "code",
   "execution_count": 54,
   "id": "40d0af98-cc80-4d93-b293-e315f3fe6e46",
   "metadata": {
    "tags": []
   },
   "outputs": [
    {
     "name": "stdout",
     "output_type": "stream",
     "text": []
    },
    {
     "name": "stdout",
     "output_type": "stream",
     "text": [
      " 100% |█████████████████| 176/176 [9.9s elapsed, 0s remaining, 17.1 samples/s]      \n",
      "Min IOU:  0.0\n",
      "Max IOU:  0.9639692621343997\n",
      "Average IOU:  0.5092665798679746\n",
      "\n",
      "\n",
      "Min Dice:  0.0\n",
      "Max Dice:  0.9816541233306051\n",
      "Average Dice:  0.5740785251656847\n"
     ]
    }
   ],
   "source": [
    "import pandas as pd\n",
    "\n",
    "# initialize dataframe from manual area file, and add column for ml_area\n",
    "df = pd.read_excel('/home/jovyan/work/data/manual_area_count.xlsx')\n",
    "\n",
    "columns_to_initialize = ['grounded_sam_area', 'ml_leaf_count', 'ground_truth_pixels', 'prediction_pixels', 'iou', 'dice', 'count_precision', 'count_recall', 'num_matches', 'tp', 'fp', 'fn',  'mask_precision', 'mask_recall']\n",
    "\n",
    "# Initialize columns to None and then convert to float\n",
    "for column in columns_to_initialize:\n",
    "    df[column] = None\n",
    "    df[column] = df[column].astype(float)\n",
    "    \n",
    "missing_from_file = []\n",
    "\n",
    "with fo.ProgressBar() as pb:\n",
    "    \n",
    "    iou_list = []\n",
    "    dice_list = []\n",
    "    \n",
    "    for sample in pb(dataset):\n",
    "\n",
    "        filename = sample.filepath.split('/')[-1].split('.')[0]\n",
    "        ground_truth_detections = sample.ground_truth.detections\n",
    "        prediction_detections = sample.grounded_sam_predictions.detections\n",
    "\n",
    "        ground_truth_mask = calculate_mask(ground_truth_detections, height, width)\n",
    "        prediction_mask = calculate_mask(prediction_detections, height, width)\n",
    "        leaf_pixels = np.count_nonzero(prediction_mask)\n",
    "\n",
    "        height, width = sample.height, sample.width\n",
    "        iou, dice = calculate_iou_and_dice(ground_truth_mask, prediction_mask)\n",
    "\n",
    "        row = df['picture'].str.startswith(filename)\n",
    "\n",
    "        df.loc[row, 'ground_truth_pixels'] = np.count_nonzero(ground_truth_mask)\n",
    "        df.loc[row, 'prediction_pixels'] = np.count_nonzero(prediction_mask)\n",
    "        df.loc[row, 'iou'] = round(iou, 3) if iou is not None else None\n",
    "        df.loc[row, 'dice'] = round(dice, 3) if dice is not None else None\n",
    "\n",
    "        iou_list.append(iou)\n",
    "        dice_list.append(dice)\n",
    "\n",
    "\n",
    "    iou_list = np.array(iou_list, dtype=float)\n",
    "\n",
    "\n",
    "    print('Min IOU: ', np.nanmin(iou_list))\n",
    "    print('Max IOU: ', np.nanmax(iou_list))\n",
    "    print('Average IOU: ', np.nanmean(iou_list))\n",
    "\n",
    "    print('\\n')\n",
    "    dice_list = np.array(dice_list, dtype=float)\n",
    "    print('Min Dice: ', np.nanmin(dice_list))\n",
    "    print('Max Dice: ', np.nanmax(dice_list))\n",
    "    print('Average Dice: ', np.nanmean(dice_list))\n",
    "\n",
    "\n",
    "# df_area = df[df['ml_area'] >= 0.0]\n",
    "# pd.set_option('display.max_rows', None)  # None means unlimited\n",
    "# pd.set_option('display.max_columns', None)\n",
    "\n",
    "# # Calculate means for specific columns\n",
    "# mean_values = {\n",
    "#     'ground_truth_pixels': None,\n",
    "#     'prediction_pixels': None,\n",
    "#     'iou': np.nanmean(df['iou']),\n",
    "#     'dice': np.nanmean(df['dice']),\n",
    "#     'count_precision': df['count_precision'].mean(),\n",
    "#     'count_recall': df['count_recall'].mean(),\n",
    "#     'mask_precision': df['mask_precision'].mean(),\n",
    "#     'mask_recall': df['mask_recall'].mean(),\n",
    "#     'num_matches': None,\n",
    "# }\n",
    "\n",
    "# # Create a new DataFrame with the mean values\n",
    "# mean_df = pd.DataFrame(mean_values, index=['average'])\n",
    "\n",
    "# # Append the new DataFrame with averages to the original DataFrame\n",
    "# df = pd.concat([df, mean_df])\n",
    "\n",
    "\n",
    "# # Specify the path and name of the CSV file you want to create\n",
    "# csv_file_path = f'{sam_output_folder}/{output_folder_name}.csv'\n",
    "\n",
    "# # Export the DataFrame to CSV\n",
    "# df.to_csv(csv_file_path, index=False)\n"
   ]
  },
  {
   "cell_type": "code",
   "execution_count": 21,
   "id": "0e0dc960-1adc-4861-a1ea-e4d23c3d59ad",
   "metadata": {
    "tags": []
   },
   "outputs": [
    {
     "name": "stdout",
     "output_type": "stream",
     "text": [
      "Connected to FiftyOne on port 5151 at 0.0.0.0.\n",
      "If you are not connecting to a remote session, you may need to start a new session and specify a port\n"
     ]
    },
    {
     "data": {
      "text/html": [
       "\n",
       "        <iframe\n",
       "            width=\"100%\"\n",
       "            height=\"800\"\n",
       "            src=\"http://0.0.0.0:5151/?notebook=True&subscription=fcf36360-2412-4ee6-b758-7fdfa4042ee3\"\n",
       "            frameborder=\"0\"\n",
       "            allowfullscreen\n",
       "            \n",
       "        ></iframe>\n",
       "        "
      ],
      "text/plain": [
       "<IPython.lib.display.IFrame at 0x7fa8c597fb80>"
      ]
     },
     "metadata": {},
     "output_type": "display_data"
    }
   ],
   "source": [
    "session = fo.launch_app(datasets['fold_0'], port=5151, address=\"0.0.0.0\")"
   ]
  },
  {
   "cell_type": "code",
   "execution_count": 164,
   "id": "13536959-8aa0-4ecd-82be-aac8b7155dca",
   "metadata": {
    "tags": []
   },
   "outputs": [],
   "source": [
    "session.refresh()"
   ]
  }
 ],
 "metadata": {
  "kernelspec": {
   "display_name": "Python 3 (ipykernel)",
   "language": "python",
   "name": "python3"
  },
  "language_info": {
   "codemirror_mode": {
    "name": "ipython",
    "version": 3
   },
   "file_extension": ".py",
   "mimetype": "text/x-python",
   "name": "python",
   "nbconvert_exporter": "python",
   "pygments_lexer": "ipython3",
   "version": "3.10.12"
  }
 },
 "nbformat": 4,
 "nbformat_minor": 5
}
